{
  "cells": [
    {
      "cell_type": "code",
      "execution_count": null,
      "id": "6603f55c",
      "metadata": {
        "_cell_guid": "b1076dfc-b9ad-4769-8c92-a6c4dae69d19",
        "_uuid": "8f2839f25d086af736a60e9eeb907d3b93b6e0e5",
        "execution": {
          "iopub.execute_input": "2022-09-04T11:42:55.254150Z",
          "iopub.status.busy": "2022-09-04T11:42:55.253805Z",
          "iopub.status.idle": "2022-09-04T11:42:55.264569Z",
          "shell.execute_reply": "2022-09-04T11:42:55.263999Z"
        },
        "papermill": {
          "duration": 0.026218,
          "end_time": "2022-09-04T11:42:55.266968",
          "exception": false,
          "start_time": "2022-09-04T11:42:55.240750",
          "status": "completed"
        },
        "tags": [],
        "id": "6603f55c",
        "outputId": "65706b22-2bf7-48ab-a9b6-63e235becebc"
      },
      "outputs": [
        {
          "name": "stdout",
          "output_type": "stream",
          "text": [
            "/kaggle/input/students-drop-out-prediction/train.csv\n",
            "/kaggle/input/students-drop-out-prediction/test.csv\n"
          ]
        }
      ],
      "source": [
        "# This Python 3 environment comes with many helpful analytics libraries installed\n",
        "# It is defined by the kaggle/python Docker image: https://github.com/kaggle/docker-python\n",
        "# For example, here's several helpful packages to load\n",
        "\n",
        "import numpy as np # linear algebra\n",
        "import pandas as pd # data processing, CSV file I/O (e.g. pd.read_csv)\n",
        "\n",
        "# Input data files are available in the read-only \"../input/\" directory\n",
        "# For example, running this (by clicking run or pressing Shift+Enter) will list all files under the input directory\n",
        "\n",
        "import os\n",
        "for dirname, _, filenames in os.walk('/kaggle/input'):\n",
        "    for filename in filenames:\n",
        "        print(os.path.join(dirname, filename))\n",
        "\n",
        "# You can write up to 20GB to the current directory (/kaggle/working/) that gets preserved as output when you create a version using \"Save & Run All\" \n",
        "# You can also write temporary files to /kaggle/temp/, but they won't be saved outside of the current session"
      ]
    },
    {
      "cell_type": "code",
      "execution_count": null,
      "id": "0fb199fd",
      "metadata": {
        "execution": {
          "iopub.execute_input": "2022-09-04T11:42:55.289805Z",
          "iopub.status.busy": "2022-09-04T11:42:55.289332Z",
          "iopub.status.idle": "2022-09-04T11:42:56.103124Z",
          "shell.execute_reply": "2022-09-04T11:42:56.102211Z"
        },
        "papermill": {
          "duration": 0.826673,
          "end_time": "2022-09-04T11:42:56.104961",
          "exception": false,
          "start_time": "2022-09-04T11:42:55.278288",
          "status": "completed"
        },
        "tags": [],
        "id": "0fb199fd"
      },
      "outputs": [],
      "source": [
        "#loading the libraries\n",
        "import pandas as pd \n",
        "import numpy as np \n",
        "import matplotlib.pyplot as plt \n",
        "import seaborn as sns"
      ]
    },
    {
      "cell_type": "code",
      "execution_count": null,
      "id": "0b10b3ce",
      "metadata": {
        "execution": {
          "iopub.execute_input": "2022-09-04T11:42:56.127287Z",
          "iopub.status.busy": "2022-09-04T11:42:56.127011Z",
          "iopub.status.idle": "2022-09-04T11:42:56.175058Z",
          "shell.execute_reply": "2022-09-04T11:42:56.174465Z"
        },
        "papermill": {
          "duration": 0.06125,
          "end_time": "2022-09-04T11:42:56.176481",
          "exception": false,
          "start_time": "2022-09-04T11:42:56.115231",
          "status": "completed"
        },
        "tags": [],
        "id": "0b10b3ce",
        "outputId": "3c1400b8-fb68-4536-cca6-6775743e12fb"
      },
      "outputs": [
        {
          "data": {
            "text/html": [
              "<div>\n",
              "<style scoped>\n",
              "    .dataframe tbody tr th:only-of-type {\n",
              "        vertical-align: middle;\n",
              "    }\n",
              "\n",
              "    .dataframe tbody tr th {\n",
              "        vertical-align: top;\n",
              "    }\n",
              "\n",
              "    .dataframe thead th {\n",
              "        text-align: right;\n",
              "    }\n",
              "</style>\n",
              "<table border=\"1\" class=\"dataframe\">\n",
              "  <thead>\n",
              "    <tr style=\"text-align: right;\">\n",
              "      <th></th>\n",
              "      <th>id</th>\n",
              "      <th>v_21</th>\n",
              "      <th>v_32</th>\n",
              "      <th>v_15</th>\n",
              "      <th>v_4</th>\n",
              "      <th>v_1</th>\n",
              "      <th>v_8</th>\n",
              "      <th>v_12</th>\n",
              "      <th>v_25</th>\n",
              "      <th>v_20</th>\n",
              "      <th>...</th>\n",
              "      <th>v_2</th>\n",
              "      <th>v_16</th>\n",
              "      <th>v_34</th>\n",
              "      <th>v_35</th>\n",
              "      <th>v_36</th>\n",
              "      <th>v_37</th>\n",
              "      <th>v_38</th>\n",
              "      <th>v_39</th>\n",
              "      <th>v_40</th>\n",
              "      <th>label</th>\n",
              "    </tr>\n",
              "  </thead>\n",
              "  <tbody>\n",
              "    <tr>\n",
              "      <th>0</th>\n",
              "      <td>0</td>\n",
              "      <td>3</td>\n",
              "      <td>6</td>\n",
              "      <td>11</td>\n",
              "      <td>55</td>\n",
              "      <td>1</td>\n",
              "      <td>1</td>\n",
              "      <td>16</td>\n",
              "      <td>5</td>\n",
              "      <td>60</td>\n",
              "      <td>...</td>\n",
              "      <td>-0.3</td>\n",
              "      <td>0.79</td>\n",
              "      <td>1</td>\n",
              "      <td>93</td>\n",
              "      <td>47</td>\n",
              "      <td>1</td>\n",
              "      <td>48</td>\n",
              "      <td>26</td>\n",
              "      <td>0</td>\n",
              "      <td>1</td>\n",
              "    </tr>\n",
              "    <tr>\n",
              "      <th>1</th>\n",
              "      <td>1</td>\n",
              "      <td>8</td>\n",
              "      <td>94</td>\n",
              "      <td>12</td>\n",
              "      <td>65</td>\n",
              "      <td>1</td>\n",
              "      <td>4</td>\n",
              "      <td>22</td>\n",
              "      <td>4</td>\n",
              "      <td>173</td>\n",
              "      <td>...</td>\n",
              "      <td>5.4</td>\n",
              "      <td>6.51</td>\n",
              "      <td>6</td>\n",
              "      <td>29</td>\n",
              "      <td>37</td>\n",
              "      <td>25</td>\n",
              "      <td>53</td>\n",
              "      <td>35</td>\n",
              "      <td>7</td>\n",
              "      <td>2</td>\n",
              "    </tr>\n",
              "    <tr>\n",
              "      <th>2</th>\n",
              "      <td>2</td>\n",
              "      <td>3</td>\n",
              "      <td>166</td>\n",
              "      <td>10</td>\n",
              "      <td>155</td>\n",
              "      <td>1</td>\n",
              "      <td>1</td>\n",
              "      <td>16</td>\n",
              "      <td>1</td>\n",
              "      <td>309</td>\n",
              "      <td>...</td>\n",
              "      <td>0.6</td>\n",
              "      <td>2.02</td>\n",
              "      <td>1</td>\n",
              "      <td>8</td>\n",
              "      <td>34</td>\n",
              "      <td>4</td>\n",
              "      <td>43</td>\n",
              "      <td>38</td>\n",
              "      <td>2</td>\n",
              "      <td>1</td>\n",
              "    </tr>\n",
              "    <tr>\n",
              "      <th>3</th>\n",
              "      <td>3</td>\n",
              "      <td>3</td>\n",
              "      <td>6</td>\n",
              "      <td>13</td>\n",
              "      <td>121</td>\n",
              "      <td>1</td>\n",
              "      <td>1</td>\n",
              "      <td>16</td>\n",
              "      <td>1</td>\n",
              "      <td>6</td>\n",
              "      <td>...</td>\n",
              "      <td>0.6</td>\n",
              "      <td>2.02</td>\n",
              "      <td>7</td>\n",
              "      <td>37</td>\n",
              "      <td>40</td>\n",
              "      <td>27</td>\n",
              "      <td>43</td>\n",
              "      <td>65</td>\n",
              "      <td>0</td>\n",
              "      <td>1</td>\n",
              "    </tr>\n",
              "    <tr>\n",
              "      <th>4</th>\n",
              "      <td>4</td>\n",
              "      <td>4</td>\n",
              "      <td>51</td>\n",
              "      <td>18</td>\n",
              "      <td>21</td>\n",
              "      <td>1</td>\n",
              "      <td>17</td>\n",
              "      <td>22</td>\n",
              "      <td>118</td>\n",
              "      <td>168</td>\n",
              "      <td>...</td>\n",
              "      <td>8.4</td>\n",
              "      <td>12.51</td>\n",
              "      <td>16</td>\n",
              "      <td>22</td>\n",
              "      <td>25</td>\n",
              "      <td>25</td>\n",
              "      <td>24</td>\n",
              "      <td>23</td>\n",
              "      <td>1</td>\n",
              "      <td>1</td>\n",
              "    </tr>\n",
              "  </tbody>\n",
              "</table>\n",
              "<p>5 rows × 43 columns</p>\n",
              "</div>"
            ],
            "text/plain": [
              "   id  v_21  v_32  v_15  v_4  v_1  v_8  v_12  v_25  v_20  ...  v_2   v_16  \\\n",
              "0   0     3     6    11   55    1    1    16     5    60  ... -0.3   0.79   \n",
              "1   1     8    94    12   65    1    4    22     4   173  ...  5.4   6.51   \n",
              "2   2     3   166    10  155    1    1    16     1   309  ...  0.6   2.02   \n",
              "3   3     3     6    13  121    1    1    16     1     6  ...  0.6   2.02   \n",
              "4   4     4    51    18   21    1   17    22   118   168  ...  8.4  12.51   \n",
              "\n",
              "   v_34  v_35  v_36  v_37  v_38  v_39  v_40  label  \n",
              "0     1    93    47     1    48    26     0      1  \n",
              "1     6    29    37    25    53    35     7      2  \n",
              "2     1     8    34     4    43    38     2      1  \n",
              "3     7    37    40    27    43    65     0      1  \n",
              "4    16    22    25    25    24    23     1      1  \n",
              "\n",
              "[5 rows x 43 columns]"
            ]
          },
          "execution_count": 3,
          "metadata": {},
          "output_type": "execute_result"
        }
      ],
      "source": [
        "#loading the data\n",
        "df = pd.read_csv('../input/students-drop-out-prediction/train.csv')\n",
        "df.head()"
      ]
    },
    {
      "cell_type": "code",
      "execution_count": null,
      "id": "aa15b4e5",
      "metadata": {
        "execution": {
          "iopub.execute_input": "2022-09-04T11:42:56.198703Z",
          "iopub.status.busy": "2022-09-04T11:42:56.197973Z",
          "iopub.status.idle": "2022-09-04T11:42:56.227372Z",
          "shell.execute_reply": "2022-09-04T11:42:56.226485Z"
        },
        "papermill": {
          "duration": 0.042579,
          "end_time": "2022-09-04T11:42:56.229302",
          "exception": false,
          "start_time": "2022-09-04T11:42:56.186723",
          "status": "completed"
        },
        "tags": [],
        "id": "aa15b4e5",
        "outputId": "45f1be91-b0ac-4ca2-d230-7fe969dcaca6"
      },
      "outputs": [
        {
          "data": {
            "text/html": [
              "<div>\n",
              "<style scoped>\n",
              "    .dataframe tbody tr th:only-of-type {\n",
              "        vertical-align: middle;\n",
              "    }\n",
              "\n",
              "    .dataframe tbody tr th {\n",
              "        vertical-align: top;\n",
              "    }\n",
              "\n",
              "    .dataframe thead th {\n",
              "        text-align: right;\n",
              "    }\n",
              "</style>\n",
              "<table border=\"1\" class=\"dataframe\">\n",
              "  <thead>\n",
              "    <tr style=\"text-align: right;\">\n",
              "      <th></th>\n",
              "      <th>id</th>\n",
              "      <th>v_21</th>\n",
              "      <th>v_32</th>\n",
              "      <th>v_15</th>\n",
              "      <th>v_4</th>\n",
              "      <th>v_1</th>\n",
              "      <th>v_8</th>\n",
              "      <th>v_12</th>\n",
              "      <th>v_25</th>\n",
              "      <th>v_20</th>\n",
              "      <th>...</th>\n",
              "      <th>v_7</th>\n",
              "      <th>v_2</th>\n",
              "      <th>v_16</th>\n",
              "      <th>v_34</th>\n",
              "      <th>v_35</th>\n",
              "      <th>v_36</th>\n",
              "      <th>v_37</th>\n",
              "      <th>v_38</th>\n",
              "      <th>v_39</th>\n",
              "      <th>v_40</th>\n",
              "    </tr>\n",
              "  </thead>\n",
              "  <tbody>\n",
              "    <tr>\n",
              "      <th>0</th>\n",
              "      <td>0</td>\n",
              "      <td>9</td>\n",
              "      <td>90</td>\n",
              "      <td>15</td>\n",
              "      <td>121</td>\n",
              "      <td>1</td>\n",
              "      <td>8</td>\n",
              "      <td>23</td>\n",
              "      <td>114</td>\n",
              "      <td>256</td>\n",
              "      <td>...</td>\n",
              "      <td>10.8</td>\n",
              "      <td>10.4</td>\n",
              "      <td>6.74</td>\n",
              "      <td>4</td>\n",
              "      <td>96</td>\n",
              "      <td>36</td>\n",
              "      <td>34</td>\n",
              "      <td>23</td>\n",
              "      <td>72</td>\n",
              "      <td>5</td>\n",
              "    </tr>\n",
              "    <tr>\n",
              "      <th>1</th>\n",
              "      <td>1</td>\n",
              "      <td>7</td>\n",
              "      <td>123</td>\n",
              "      <td>14</td>\n",
              "      <td>126</td>\n",
              "      <td>1</td>\n",
              "      <td>5</td>\n",
              "      <td>19</td>\n",
              "      <td>3</td>\n",
              "      <td>40</td>\n",
              "      <td>...</td>\n",
              "      <td>19.4</td>\n",
              "      <td>0.5</td>\n",
              "      <td>6.79</td>\n",
              "      <td>15</td>\n",
              "      <td>78</td>\n",
              "      <td>12</td>\n",
              "      <td>25</td>\n",
              "      <td>27</td>\n",
              "      <td>67</td>\n",
              "      <td>12</td>\n",
              "    </tr>\n",
              "    <tr>\n",
              "      <th>2</th>\n",
              "      <td>2</td>\n",
              "      <td>3</td>\n",
              "      <td>6</td>\n",
              "      <td>10</td>\n",
              "      <td>102</td>\n",
              "      <td>1</td>\n",
              "      <td>1</td>\n",
              "      <td>16</td>\n",
              "      <td>181</td>\n",
              "      <td>168</td>\n",
              "      <td>...</td>\n",
              "      <td>7.6</td>\n",
              "      <td>2.6</td>\n",
              "      <td>0.32</td>\n",
              "      <td>4</td>\n",
              "      <td>81</td>\n",
              "      <td>47</td>\n",
              "      <td>30</td>\n",
              "      <td>54</td>\n",
              "      <td>23</td>\n",
              "      <td>4</td>\n",
              "    </tr>\n",
              "    <tr>\n",
              "      <th>3</th>\n",
              "      <td>3</td>\n",
              "      <td>3</td>\n",
              "      <td>6</td>\n",
              "      <td>10</td>\n",
              "      <td>148</td>\n",
              "      <td>1</td>\n",
              "      <td>1</td>\n",
              "      <td>16</td>\n",
              "      <td>110</td>\n",
              "      <td>278</td>\n",
              "      <td>...</td>\n",
              "      <td>11.1</td>\n",
              "      <td>0.6</td>\n",
              "      <td>2.02</td>\n",
              "      <td>4</td>\n",
              "      <td>100</td>\n",
              "      <td>6</td>\n",
              "      <td>23</td>\n",
              "      <td>12</td>\n",
              "      <td>28</td>\n",
              "      <td>1</td>\n",
              "    </tr>\n",
              "    <tr>\n",
              "      <th>4</th>\n",
              "      <td>4</td>\n",
              "      <td>3</td>\n",
              "      <td>6</td>\n",
              "      <td>10</td>\n",
              "      <td>148</td>\n",
              "      <td>1</td>\n",
              "      <td>1</td>\n",
              "      <td>16</td>\n",
              "      <td>1</td>\n",
              "      <td>168</td>\n",
              "      <td>...</td>\n",
              "      <td>7.6</td>\n",
              "      <td>2.6</td>\n",
              "      <td>0.32</td>\n",
              "      <td>7</td>\n",
              "      <td>97</td>\n",
              "      <td>25</td>\n",
              "      <td>30</td>\n",
              "      <td>18</td>\n",
              "      <td>52</td>\n",
              "      <td>0</td>\n",
              "    </tr>\n",
              "  </tbody>\n",
              "</table>\n",
              "<p>5 rows × 42 columns</p>\n",
              "</div>"
            ],
            "text/plain": [
              "   id  v_21  v_32  v_15  v_4  v_1  v_8  v_12  v_25  v_20  ...   v_7   v_2  \\\n",
              "0   0     9    90    15  121    1    8    23   114   256  ...  10.8  10.4   \n",
              "1   1     7   123    14  126    1    5    19     3    40  ...  19.4   0.5   \n",
              "2   2     3     6    10  102    1    1    16   181   168  ...   7.6   2.6   \n",
              "3   3     3     6    10  148    1    1    16   110   278  ...  11.1   0.6   \n",
              "4   4     3     6    10  148    1    1    16     1   168  ...   7.6   2.6   \n",
              "\n",
              "   v_16  v_34  v_35  v_36  v_37  v_38  v_39  v_40  \n",
              "0  6.74     4    96    36    34    23    72     5  \n",
              "1  6.79    15    78    12    25    27    67    12  \n",
              "2  0.32     4    81    47    30    54    23     4  \n",
              "3  2.02     4   100     6    23    12    28     1  \n",
              "4  0.32     7    97    25    30    18    52     0  \n",
              "\n",
              "[5 rows x 42 columns]"
            ]
          },
          "execution_count": 4,
          "metadata": {},
          "output_type": "execute_result"
        }
      ],
      "source": [
        "#loading the test data\n",
        "df_test = pd.read_csv('../input/students-drop-out-prediction/test.csv')\n",
        "df_test.head()"
      ]
    },
    {
      "cell_type": "code",
      "execution_count": null,
      "id": "63de5e38",
      "metadata": {
        "execution": {
          "iopub.execute_input": "2022-09-04T11:42:56.252221Z",
          "iopub.status.busy": "2022-09-04T11:42:56.251738Z",
          "iopub.status.idle": "2022-09-04T11:42:56.257385Z",
          "shell.execute_reply": "2022-09-04T11:42:56.256745Z"
        },
        "papermill": {
          "duration": 0.018812,
          "end_time": "2022-09-04T11:42:56.259034",
          "exception": false,
          "start_time": "2022-09-04T11:42:56.240222",
          "status": "completed"
        },
        "tags": [],
        "id": "63de5e38",
        "outputId": "7199d08b-e6d8-4042-bf24-108f84389c6f"
      },
      "outputs": [
        {
          "data": {
            "text/plain": [
              "(3796, 43)"
            ]
          },
          "execution_count": 5,
          "metadata": {},
          "output_type": "execute_result"
        }
      ],
      "source": [
        "df.shape"
      ]
    },
    {
      "cell_type": "code",
      "execution_count": null,
      "id": "b3060b95",
      "metadata": {
        "execution": {
          "iopub.execute_input": "2022-09-04T11:42:56.282432Z",
          "iopub.status.busy": "2022-09-04T11:42:56.282153Z",
          "iopub.status.idle": "2022-09-04T11:42:56.286585Z",
          "shell.execute_reply": "2022-09-04T11:42:56.286042Z"
        },
        "papermill": {
          "duration": 0.018592,
          "end_time": "2022-09-04T11:42:56.288720",
          "exception": false,
          "start_time": "2022-09-04T11:42:56.270128",
          "status": "completed"
        },
        "tags": [],
        "id": "b3060b95",
        "outputId": "1026ad71-03ee-4a76-d1e3-b161558759ee"
      },
      "outputs": [
        {
          "data": {
            "text/plain": [
              "(1628, 42)"
            ]
          },
          "execution_count": 6,
          "metadata": {},
          "output_type": "execute_result"
        }
      ],
      "source": [
        "df_test.shape"
      ]
    },
    {
      "cell_type": "code",
      "execution_count": null,
      "id": "650d4fec",
      "metadata": {
        "execution": {
          "iopub.execute_input": "2022-09-04T11:42:56.311758Z",
          "iopub.status.busy": "2022-09-04T11:42:56.310974Z",
          "iopub.status.idle": "2022-09-04T11:42:56.317768Z",
          "shell.execute_reply": "2022-09-04T11:42:56.317215Z"
        },
        "papermill": {
          "duration": 0.019845,
          "end_time": "2022-09-04T11:42:56.319234",
          "exception": false,
          "start_time": "2022-09-04T11:42:56.299389",
          "status": "completed"
        },
        "tags": [],
        "id": "650d4fec",
        "outputId": "149ed44d-f35a-4346-f882-607e4aff7c65"
      },
      "outputs": [
        {
          "data": {
            "text/plain": [
              "id       0\n",
              "v_21     0\n",
              "v_32     0\n",
              "v_15     0\n",
              "v_4      0\n",
              "v_1      0\n",
              "v_8      0\n",
              "v_12     0\n",
              "v_25     0\n",
              "v_20     0\n",
              "v_18     0\n",
              "v_3      0\n",
              "v_11     0\n",
              "v_14     0\n",
              "v_26     0\n",
              "v_27     0\n",
              "v_30     0\n",
              "v_9      0\n",
              "v_31     0\n",
              "v_28     0\n",
              "v_13     0\n",
              "v_33     0\n",
              "v_17     0\n",
              "v_19     0\n",
              "v_29     0\n",
              "v_23     0\n",
              "v_24     0\n",
              "v_10     0\n",
              "v_5      0\n",
              "v_6      0\n",
              "v_22     0\n",
              "v_0      0\n",
              "v_7      0\n",
              "v_2      0\n",
              "v_16     0\n",
              "v_34     0\n",
              "v_35     0\n",
              "v_36     0\n",
              "v_37     0\n",
              "v_38     0\n",
              "v_39     0\n",
              "v_40     0\n",
              "label    0\n",
              "dtype: int64"
            ]
          },
          "execution_count": 7,
          "metadata": {},
          "output_type": "execute_result"
        }
      ],
      "source": [
        "##checking null values in train data\n",
        "df.isnull().sum()"
      ]
    },
    {
      "cell_type": "code",
      "execution_count": null,
      "id": "7ded01c4",
      "metadata": {
        "execution": {
          "iopub.execute_input": "2022-09-04T11:42:56.342101Z",
          "iopub.status.busy": "2022-09-04T11:42:56.341597Z",
          "iopub.status.idle": "2022-09-04T11:42:56.347832Z",
          "shell.execute_reply": "2022-09-04T11:42:56.347320Z"
        },
        "papermill": {
          "duration": 0.019363,
          "end_time": "2022-09-04T11:42:56.349272",
          "exception": false,
          "start_time": "2022-09-04T11:42:56.329909",
          "status": "completed"
        },
        "tags": [],
        "id": "7ded01c4",
        "outputId": "2c65f16b-59cc-41b5-cc9a-c1ef913a5c20"
      },
      "outputs": [
        {
          "data": {
            "text/plain": [
              "id      0\n",
              "v_21    0\n",
              "v_32    0\n",
              "v_15    0\n",
              "v_4     0\n",
              "v_1     0\n",
              "v_8     0\n",
              "v_12    0\n",
              "v_25    0\n",
              "v_20    0\n",
              "v_18    0\n",
              "v_3     0\n",
              "v_11    0\n",
              "v_14    0\n",
              "v_26    0\n",
              "v_27    0\n",
              "v_30    0\n",
              "v_9     0\n",
              "v_31    0\n",
              "v_28    0\n",
              "v_13    0\n",
              "v_33    0\n",
              "v_17    0\n",
              "v_19    0\n",
              "v_29    0\n",
              "v_23    0\n",
              "v_24    0\n",
              "v_10    0\n",
              "v_5     0\n",
              "v_6     0\n",
              "v_22    0\n",
              "v_0     0\n",
              "v_7     0\n",
              "v_2     0\n",
              "v_16    0\n",
              "v_34    0\n",
              "v_35    0\n",
              "v_36    0\n",
              "v_37    0\n",
              "v_38    0\n",
              "v_39    0\n",
              "v_40    0\n",
              "dtype: int64"
            ]
          },
          "execution_count": 8,
          "metadata": {},
          "output_type": "execute_result"
        }
      ],
      "source": [
        "#checking null values in test data\n",
        "df_test.isnull().sum()"
      ]
    },
    {
      "cell_type": "code",
      "execution_count": null,
      "id": "a203d09d",
      "metadata": {
        "execution": {
          "iopub.execute_input": "2022-09-04T11:42:56.372153Z",
          "iopub.status.busy": "2022-09-04T11:42:56.371690Z",
          "iopub.status.idle": "2022-09-04T11:42:56.468136Z",
          "shell.execute_reply": "2022-09-04T11:42:56.467288Z"
        },
        "papermill": {
          "duration": 0.109655,
          "end_time": "2022-09-04T11:42:56.469824",
          "exception": false,
          "start_time": "2022-09-04T11:42:56.360169",
          "status": "completed"
        },
        "tags": [],
        "id": "a203d09d",
        "outputId": "9d32d95b-6dd9-4a3b-b03a-13323105d587"
      },
      "outputs": [
        {
          "data": {
            "text/html": [
              "<div>\n",
              "<style scoped>\n",
              "    .dataframe tbody tr th:only-of-type {\n",
              "        vertical-align: middle;\n",
              "    }\n",
              "\n",
              "    .dataframe tbody tr th {\n",
              "        vertical-align: top;\n",
              "    }\n",
              "\n",
              "    .dataframe thead th {\n",
              "        text-align: right;\n",
              "    }\n",
              "</style>\n",
              "<table border=\"1\" class=\"dataframe\">\n",
              "  <thead>\n",
              "    <tr style=\"text-align: right;\">\n",
              "      <th></th>\n",
              "      <th>count</th>\n",
              "      <th>mean</th>\n",
              "      <th>std</th>\n",
              "      <th>min</th>\n",
              "      <th>25%</th>\n",
              "      <th>50%</th>\n",
              "      <th>75%</th>\n",
              "      <th>max</th>\n",
              "    </tr>\n",
              "  </thead>\n",
              "  <tbody>\n",
              "    <tr>\n",
              "      <th>id</th>\n",
              "      <td>3796.0</td>\n",
              "      <td>1897.500000</td>\n",
              "      <td>1095.955139</td>\n",
              "      <td>0.00</td>\n",
              "      <td>948.75</td>\n",
              "      <td>1897.50</td>\n",
              "      <td>2846.25</td>\n",
              "      <td>3795.00</td>\n",
              "    </tr>\n",
              "    <tr>\n",
              "      <th>v_21</th>\n",
              "      <td>3796.0</td>\n",
              "      <td>4.817439</td>\n",
              "      <td>6.166860</td>\n",
              "      <td>3.00</td>\n",
              "      <td>3.00</td>\n",
              "      <td>3.00</td>\n",
              "      <td>4.00</td>\n",
              "      <td>61.00</td>\n",
              "    </tr>\n",
              "    <tr>\n",
              "      <th>v_32</th>\n",
              "      <td>3796.0</td>\n",
              "      <td>70.825606</td>\n",
              "      <td>56.110329</td>\n",
              "      <td>6.00</td>\n",
              "      <td>6.00</td>\n",
              "      <td>89.00</td>\n",
              "      <td>116.00</td>\n",
              "      <td>176.00</td>\n",
              "    </tr>\n",
              "    <tr>\n",
              "      <th>v_15</th>\n",
              "      <td>3796.0</td>\n",
              "      <td>11.609062</td>\n",
              "      <td>2.576362</td>\n",
              "      <td>9.00</td>\n",
              "      <td>10.00</td>\n",
              "      <td>10.00</td>\n",
              "      <td>12.00</td>\n",
              "      <td>25.00</td>\n",
              "    </tr>\n",
              "    <tr>\n",
              "      <th>v_4</th>\n",
              "      <td>3796.0</td>\n",
              "      <td>99.329294</td>\n",
              "      <td>45.017380</td>\n",
              "      <td>9.00</td>\n",
              "      <td>55.00</td>\n",
              "      <td>101.00</td>\n",
              "      <td>146.00</td>\n",
              "      <td>176.00</td>\n",
              "    </tr>\n",
              "    <tr>\n",
              "      <th>v_1</th>\n",
              "      <td>3796.0</td>\n",
              "      <td>0.911486</td>\n",
              "      <td>0.284079</td>\n",
              "      <td>0.00</td>\n",
              "      <td>1.00</td>\n",
              "      <td>1.00</td>\n",
              "      <td>1.00</td>\n",
              "      <td>1.00</td>\n",
              "    </tr>\n",
              "    <tr>\n",
              "      <th>v_8</th>\n",
              "      <td>3796.0</td>\n",
              "      <td>3.436249</td>\n",
              "      <td>4.577644</td>\n",
              "      <td>1.00</td>\n",
              "      <td>1.00</td>\n",
              "      <td>1.00</td>\n",
              "      <td>3.00</td>\n",
              "      <td>25.00</td>\n",
              "    </tr>\n",
              "    <tr>\n",
              "      <th>v_12</th>\n",
              "      <td>3796.0</td>\n",
              "      <td>18.970495</td>\n",
              "      <td>15.010042</td>\n",
              "      <td>16.00</td>\n",
              "      <td>16.00</td>\n",
              "      <td>16.00</td>\n",
              "      <td>16.00</td>\n",
              "      <td>179.00</td>\n",
              "    </tr>\n",
              "    <tr>\n",
              "      <th>v_25</th>\n",
              "      <td>3796.0</td>\n",
              "      <td>97.203372</td>\n",
              "      <td>79.213308</td>\n",
              "      <td>1.00</td>\n",
              "      <td>5.00</td>\n",
              "      <td>110.00</td>\n",
              "      <td>181.00</td>\n",
              "      <td>289.00</td>\n",
              "    </tr>\n",
              "    <tr>\n",
              "      <th>v_20</th>\n",
              "      <td>3796.0</td>\n",
              "      <td>166.138567</td>\n",
              "      <td>103.121322</td>\n",
              "      <td>6.00</td>\n",
              "      <td>60.00</td>\n",
              "      <td>168.00</td>\n",
              "      <td>251.00</td>\n",
              "      <td>322.00</td>\n",
              "    </tr>\n",
              "    <tr>\n",
              "      <th>v_18</th>\n",
              "      <td>3796.0</td>\n",
              "      <td>57.441254</td>\n",
              "      <td>50.416264</td>\n",
              "      <td>3.00</td>\n",
              "      <td>23.00</td>\n",
              "      <td>30.00</td>\n",
              "      <td>103.00</td>\n",
              "      <td>324.00</td>\n",
              "    </tr>\n",
              "    <tr>\n",
              "      <th>v_3</th>\n",
              "      <td>3796.0</td>\n",
              "      <td>65.922023</td>\n",
              "      <td>43.698147</td>\n",
              "      <td>5.00</td>\n",
              "      <td>39.00</td>\n",
              "      <td>70.00</td>\n",
              "      <td>87.00</td>\n",
              "      <td>428.00</td>\n",
              "    </tr>\n",
              "    <tr>\n",
              "      <th>v_11</th>\n",
              "      <td>3796.0</td>\n",
              "      <td>0.466280</td>\n",
              "      <td>0.498927</td>\n",
              "      <td>0.00</td>\n",
              "      <td>0.00</td>\n",
              "      <td>0.00</td>\n",
              "      <td>1.00</td>\n",
              "      <td>1.00</td>\n",
              "    </tr>\n",
              "    <tr>\n",
              "      <th>v_14</th>\n",
              "      <td>3796.0</td>\n",
              "      <td>0.179399</td>\n",
              "      <td>0.383737</td>\n",
              "      <td>0.00</td>\n",
              "      <td>0.00</td>\n",
              "      <td>0.00</td>\n",
              "      <td>0.00</td>\n",
              "      <td>1.00</td>\n",
              "    </tr>\n",
              "    <tr>\n",
              "      <th>v_26</th>\n",
              "      <td>3796.0</td>\n",
              "      <td>0.262118</td>\n",
              "      <td>0.439844</td>\n",
              "      <td>0.00</td>\n",
              "      <td>0.00</td>\n",
              "      <td>0.00</td>\n",
              "      <td>1.00</td>\n",
              "      <td>1.00</td>\n",
              "    </tr>\n",
              "    <tr>\n",
              "      <th>v_27</th>\n",
              "      <td>3796.0</td>\n",
              "      <td>0.731560</td>\n",
              "      <td>0.443206</td>\n",
              "      <td>0.00</td>\n",
              "      <td>0.00</td>\n",
              "      <td>1.00</td>\n",
              "      <td>1.00</td>\n",
              "      <td>1.00</td>\n",
              "    </tr>\n",
              "    <tr>\n",
              "      <th>v_30</th>\n",
              "      <td>3796.0</td>\n",
              "      <td>0.463646</td>\n",
              "      <td>0.498742</td>\n",
              "      <td>0.00</td>\n",
              "      <td>0.00</td>\n",
              "      <td>0.00</td>\n",
              "      <td>1.00</td>\n",
              "      <td>1.00</td>\n",
              "    </tr>\n",
              "    <tr>\n",
              "      <th>v_9</th>\n",
              "      <td>3796.0</td>\n",
              "      <td>0.374605</td>\n",
              "      <td>0.484084</td>\n",
              "      <td>0.00</td>\n",
              "      <td>0.00</td>\n",
              "      <td>0.00</td>\n",
              "      <td>1.00</td>\n",
              "      <td>1.00</td>\n",
              "    </tr>\n",
              "    <tr>\n",
              "      <th>v_31</th>\n",
              "      <td>3796.0</td>\n",
              "      <td>32.134089</td>\n",
              "      <td>7.887596</td>\n",
              "      <td>25.00</td>\n",
              "      <td>27.00</td>\n",
              "      <td>29.00</td>\n",
              "      <td>35.00</td>\n",
              "      <td>78.00</td>\n",
              "    </tr>\n",
              "    <tr>\n",
              "      <th>v_28</th>\n",
              "      <td>3796.0</td>\n",
              "      <td>0.040569</td>\n",
              "      <td>0.197316</td>\n",
              "      <td>0.00</td>\n",
              "      <td>0.00</td>\n",
              "      <td>0.00</td>\n",
              "      <td>0.00</td>\n",
              "      <td>1.00</td>\n",
              "    </tr>\n",
              "    <tr>\n",
              "      <th>v_13</th>\n",
              "      <td>3796.0</td>\n",
              "      <td>15.600896</td>\n",
              "      <td>3.216409</td>\n",
              "      <td>14.00</td>\n",
              "      <td>14.00</td>\n",
              "      <td>14.00</td>\n",
              "      <td>16.00</td>\n",
              "      <td>38.00</td>\n",
              "    </tr>\n",
              "    <tr>\n",
              "      <th>v_33</th>\n",
              "      <td>3796.0</td>\n",
              "      <td>30.127239</td>\n",
              "      <td>3.256676</td>\n",
              "      <td>23.00</td>\n",
              "      <td>29.00</td>\n",
              "      <td>29.00</td>\n",
              "      <td>31.00</td>\n",
              "      <td>49.00</td>\n",
              "    </tr>\n",
              "    <tr>\n",
              "      <th>v_17</th>\n",
              "      <td>3796.0</td>\n",
              "      <td>50.165701</td>\n",
              "      <td>4.670733</td>\n",
              "      <td>41.00</td>\n",
              "      <td>48.00</td>\n",
              "      <td>49.00</td>\n",
              "      <td>53.00</td>\n",
              "      <td>86.00</td>\n",
              "    </tr>\n",
              "    <tr>\n",
              "      <th>v_19</th>\n",
              "      <td>3796.0</td>\n",
              "      <td>23.562171</td>\n",
              "      <td>3.757691</td>\n",
              "      <td>18.00</td>\n",
              "      <td>22.00</td>\n",
              "      <td>24.00</td>\n",
              "      <td>25.00</td>\n",
              "      <td>45.00</td>\n",
              "    </tr>\n",
              "    <tr>\n",
              "      <th>v_29</th>\n",
              "      <td>3796.0</td>\n",
              "      <td>17.162803</td>\n",
              "      <td>5.213275</td>\n",
              "      <td>6.00</td>\n",
              "      <td>17.00</td>\n",
              "      <td>18.00</td>\n",
              "      <td>20.00</td>\n",
              "      <td>31.00</td>\n",
              "    </tr>\n",
              "    <tr>\n",
              "      <th>v_23</th>\n",
              "      <td>3796.0</td>\n",
              "      <td>3.975764</td>\n",
              "      <td>2.249038</td>\n",
              "      <td>3.00</td>\n",
              "      <td>3.00</td>\n",
              "      <td>3.00</td>\n",
              "      <td>3.00</td>\n",
              "      <td>17.00</td>\n",
              "    </tr>\n",
              "    <tr>\n",
              "      <th>v_24</th>\n",
              "      <td>3796.0</td>\n",
              "      <td>16.392255</td>\n",
              "      <td>2.866872</td>\n",
              "      <td>15.00</td>\n",
              "      <td>15.00</td>\n",
              "      <td>15.00</td>\n",
              "      <td>16.00</td>\n",
              "      <td>37.00</td>\n",
              "    </tr>\n",
              "    <tr>\n",
              "      <th>v_10</th>\n",
              "      <td>3796.0</td>\n",
              "      <td>26.064015</td>\n",
              "      <td>3.079682</td>\n",
              "      <td>19.00</td>\n",
              "      <td>25.00</td>\n",
              "      <td>25.00</td>\n",
              "      <td>27.00</td>\n",
              "      <td>42.00</td>\n",
              "    </tr>\n",
              "    <tr>\n",
              "      <th>v_5</th>\n",
              "      <td>3796.0</td>\n",
              "      <td>39.934932</td>\n",
              "      <td>4.507494</td>\n",
              "      <td>31.00</td>\n",
              "      <td>37.00</td>\n",
              "      <td>39.00</td>\n",
              "      <td>42.00</td>\n",
              "      <td>64.00</td>\n",
              "    </tr>\n",
              "    <tr>\n",
              "      <th>v_6</th>\n",
              "      <td>3796.0</td>\n",
              "      <td>13.281876</td>\n",
              "      <td>3.674661</td>\n",
              "      <td>8.00</td>\n",
              "      <td>11.00</td>\n",
              "      <td>13.00</td>\n",
              "      <td>15.00</td>\n",
              "      <td>28.00</td>\n",
              "    </tr>\n",
              "    <tr>\n",
              "      <th>v_22</th>\n",
              "      <td>3796.0</td>\n",
              "      <td>23.794521</td>\n",
              "      <td>5.532030</td>\n",
              "      <td>13.00</td>\n",
              "      <td>24.00</td>\n",
              "      <td>25.00</td>\n",
              "      <td>27.00</td>\n",
              "      <td>38.00</td>\n",
              "    </tr>\n",
              "    <tr>\n",
              "      <th>v_0</th>\n",
              "      <td>3796.0</td>\n",
              "      <td>12.998156</td>\n",
              "      <td>2.309686</td>\n",
              "      <td>12.00</td>\n",
              "      <td>12.00</td>\n",
              "      <td>12.00</td>\n",
              "      <td>12.00</td>\n",
              "      <td>26.00</td>\n",
              "    </tr>\n",
              "    <tr>\n",
              "      <th>v_7</th>\n",
              "      <td>3796.0</td>\n",
              "      <td>12.394810</td>\n",
              "      <td>3.414303</td>\n",
              "      <td>7.60</td>\n",
              "      <td>9.40</td>\n",
              "      <td>12.40</td>\n",
              "      <td>14.90</td>\n",
              "      <td>25.20</td>\n",
              "    </tr>\n",
              "    <tr>\n",
              "      <th>v_2</th>\n",
              "      <td>3796.0</td>\n",
              "      <td>2.041333</td>\n",
              "      <td>2.516779</td>\n",
              "      <td>-0.80</td>\n",
              "      <td>0.50</td>\n",
              "      <td>1.40</td>\n",
              "      <td>2.80</td>\n",
              "      <td>12.70</td>\n",
              "    </tr>\n",
              "    <tr>\n",
              "      <th>v_16</th>\n",
              "      <td>3796.0</td>\n",
              "      <td>0.835901</td>\n",
              "      <td>3.109413</td>\n",
              "      <td>-4.06</td>\n",
              "      <td>-1.70</td>\n",
              "      <td>0.79</td>\n",
              "      <td>2.02</td>\n",
              "      <td>12.51</td>\n",
              "    </tr>\n",
              "    <tr>\n",
              "      <th>v_34</th>\n",
              "      <td>3796.0</td>\n",
              "      <td>5.341149</td>\n",
              "      <td>3.507388</td>\n",
              "      <td>0.00</td>\n",
              "      <td>3.00</td>\n",
              "      <td>5.00</td>\n",
              "      <td>8.00</td>\n",
              "      <td>18.00</td>\n",
              "    </tr>\n",
              "    <tr>\n",
              "      <th>v_35</th>\n",
              "      <td>3796.0</td>\n",
              "      <td>50.674658</td>\n",
              "      <td>29.330820</td>\n",
              "      <td>0.00</td>\n",
              "      <td>25.00</td>\n",
              "      <td>50.00</td>\n",
              "      <td>76.00</td>\n",
              "      <td>107.00</td>\n",
              "    </tr>\n",
              "    <tr>\n",
              "      <th>v_36</th>\n",
              "      <td>3796.0</td>\n",
              "      <td>26.212065</td>\n",
              "      <td>14.929649</td>\n",
              "      <td>0.00</td>\n",
              "      <td>13.00</td>\n",
              "      <td>26.00</td>\n",
              "      <td>39.00</td>\n",
              "      <td>58.00</td>\n",
              "    </tr>\n",
              "    <tr>\n",
              "      <th>v_37</th>\n",
              "      <td>3796.0</td>\n",
              "      <td>20.837197</td>\n",
              "      <td>11.984063</td>\n",
              "      <td>0.00</td>\n",
              "      <td>11.00</td>\n",
              "      <td>21.00</td>\n",
              "      <td>31.00</td>\n",
              "      <td>49.00</td>\n",
              "    </tr>\n",
              "    <tr>\n",
              "      <th>v_38</th>\n",
              "      <td>3796.0</td>\n",
              "      <td>31.276607</td>\n",
              "      <td>17.847942</td>\n",
              "      <td>0.00</td>\n",
              "      <td>16.00</td>\n",
              "      <td>31.00</td>\n",
              "      <td>47.00</td>\n",
              "      <td>69.00</td>\n",
              "    </tr>\n",
              "    <tr>\n",
              "      <th>v_39</th>\n",
              "      <td>3796.0</td>\n",
              "      <td>40.210485</td>\n",
              "      <td>22.466458</td>\n",
              "      <td>0.00</td>\n",
              "      <td>21.75</td>\n",
              "      <td>41.00</td>\n",
              "      <td>59.00</td>\n",
              "      <td>87.00</td>\n",
              "    </tr>\n",
              "    <tr>\n",
              "      <th>v_40</th>\n",
              "      <td>3796.0</td>\n",
              "      <td>3.278978</td>\n",
              "      <td>2.618851</td>\n",
              "      <td>0.00</td>\n",
              "      <td>1.00</td>\n",
              "      <td>3.00</td>\n",
              "      <td>5.00</td>\n",
              "      <td>14.00</td>\n",
              "    </tr>\n",
              "    <tr>\n",
              "      <th>label</th>\n",
              "      <td>3796.0</td>\n",
              "      <td>0.854320</td>\n",
              "      <td>0.698660</td>\n",
              "      <td>0.00</td>\n",
              "      <td>0.00</td>\n",
              "      <td>1.00</td>\n",
              "      <td>1.00</td>\n",
              "      <td>2.00</td>\n",
              "    </tr>\n",
              "  </tbody>\n",
              "</table>\n",
              "</div>"
            ],
            "text/plain": [
              "        count         mean          std    min     25%      50%      75%  \\\n",
              "id     3796.0  1897.500000  1095.955139   0.00  948.75  1897.50  2846.25   \n",
              "v_21   3796.0     4.817439     6.166860   3.00    3.00     3.00     4.00   \n",
              "v_32   3796.0    70.825606    56.110329   6.00    6.00    89.00   116.00   \n",
              "v_15   3796.0    11.609062     2.576362   9.00   10.00    10.00    12.00   \n",
              "v_4    3796.0    99.329294    45.017380   9.00   55.00   101.00   146.00   \n",
              "v_1    3796.0     0.911486     0.284079   0.00    1.00     1.00     1.00   \n",
              "v_8    3796.0     3.436249     4.577644   1.00    1.00     1.00     3.00   \n",
              "v_12   3796.0    18.970495    15.010042  16.00   16.00    16.00    16.00   \n",
              "v_25   3796.0    97.203372    79.213308   1.00    5.00   110.00   181.00   \n",
              "v_20   3796.0   166.138567   103.121322   6.00   60.00   168.00   251.00   \n",
              "v_18   3796.0    57.441254    50.416264   3.00   23.00    30.00   103.00   \n",
              "v_3    3796.0    65.922023    43.698147   5.00   39.00    70.00    87.00   \n",
              "v_11   3796.0     0.466280     0.498927   0.00    0.00     0.00     1.00   \n",
              "v_14   3796.0     0.179399     0.383737   0.00    0.00     0.00     0.00   \n",
              "v_26   3796.0     0.262118     0.439844   0.00    0.00     0.00     1.00   \n",
              "v_27   3796.0     0.731560     0.443206   0.00    0.00     1.00     1.00   \n",
              "v_30   3796.0     0.463646     0.498742   0.00    0.00     0.00     1.00   \n",
              "v_9    3796.0     0.374605     0.484084   0.00    0.00     0.00     1.00   \n",
              "v_31   3796.0    32.134089     7.887596  25.00   27.00    29.00    35.00   \n",
              "v_28   3796.0     0.040569     0.197316   0.00    0.00     0.00     0.00   \n",
              "v_13   3796.0    15.600896     3.216409  14.00   14.00    14.00    16.00   \n",
              "v_33   3796.0    30.127239     3.256676  23.00   29.00    29.00    31.00   \n",
              "v_17   3796.0    50.165701     4.670733  41.00   48.00    49.00    53.00   \n",
              "v_19   3796.0    23.562171     3.757691  18.00   22.00    24.00    25.00   \n",
              "v_29   3796.0    17.162803     5.213275   6.00   17.00    18.00    20.00   \n",
              "v_23   3796.0     3.975764     2.249038   3.00    3.00     3.00     3.00   \n",
              "v_24   3796.0    16.392255     2.866872  15.00   15.00    15.00    16.00   \n",
              "v_10   3796.0    26.064015     3.079682  19.00   25.00    25.00    27.00   \n",
              "v_5    3796.0    39.934932     4.507494  31.00   37.00    39.00    42.00   \n",
              "v_6    3796.0    13.281876     3.674661   8.00   11.00    13.00    15.00   \n",
              "v_22   3796.0    23.794521     5.532030  13.00   24.00    25.00    27.00   \n",
              "v_0    3796.0    12.998156     2.309686  12.00   12.00    12.00    12.00   \n",
              "v_7    3796.0    12.394810     3.414303   7.60    9.40    12.40    14.90   \n",
              "v_2    3796.0     2.041333     2.516779  -0.80    0.50     1.40     2.80   \n",
              "v_16   3796.0     0.835901     3.109413  -4.06   -1.70     0.79     2.02   \n",
              "v_34   3796.0     5.341149     3.507388   0.00    3.00     5.00     8.00   \n",
              "v_35   3796.0    50.674658    29.330820   0.00   25.00    50.00    76.00   \n",
              "v_36   3796.0    26.212065    14.929649   0.00   13.00    26.00    39.00   \n",
              "v_37   3796.0    20.837197    11.984063   0.00   11.00    21.00    31.00   \n",
              "v_38   3796.0    31.276607    17.847942   0.00   16.00    31.00    47.00   \n",
              "v_39   3796.0    40.210485    22.466458   0.00   21.75    41.00    59.00   \n",
              "v_40   3796.0     3.278978     2.618851   0.00    1.00     3.00     5.00   \n",
              "label  3796.0     0.854320     0.698660   0.00    0.00     1.00     1.00   \n",
              "\n",
              "           max  \n",
              "id     3795.00  \n",
              "v_21     61.00  \n",
              "v_32    176.00  \n",
              "v_15     25.00  \n",
              "v_4     176.00  \n",
              "v_1       1.00  \n",
              "v_8      25.00  \n",
              "v_12    179.00  \n",
              "v_25    289.00  \n",
              "v_20    322.00  \n",
              "v_18    324.00  \n",
              "v_3     428.00  \n",
              "v_11      1.00  \n",
              "v_14      1.00  \n",
              "v_26      1.00  \n",
              "v_27      1.00  \n",
              "v_30      1.00  \n",
              "v_9       1.00  \n",
              "v_31     78.00  \n",
              "v_28      1.00  \n",
              "v_13     38.00  \n",
              "v_33     49.00  \n",
              "v_17     86.00  \n",
              "v_19     45.00  \n",
              "v_29     31.00  \n",
              "v_23     17.00  \n",
              "v_24     37.00  \n",
              "v_10     42.00  \n",
              "v_5      64.00  \n",
              "v_6      28.00  \n",
              "v_22     38.00  \n",
              "v_0      26.00  \n",
              "v_7      25.20  \n",
              "v_2      12.70  \n",
              "v_16     12.51  \n",
              "v_34     18.00  \n",
              "v_35    107.00  \n",
              "v_36     58.00  \n",
              "v_37     49.00  \n",
              "v_38     69.00  \n",
              "v_39     87.00  \n",
              "v_40     14.00  \n",
              "label     2.00  "
            ]
          },
          "execution_count": 9,
          "metadata": {},
          "output_type": "execute_result"
        }
      ],
      "source": [
        "#statistics of train data\n",
        "df.describe().transpose()"
      ]
    },
    {
      "cell_type": "code",
      "execution_count": null,
      "id": "034c650a",
      "metadata": {
        "execution": {
          "iopub.execute_input": "2022-09-04T11:42:56.493519Z",
          "iopub.status.busy": "2022-09-04T11:42:56.493237Z",
          "iopub.status.idle": "2022-09-04T11:42:56.581167Z",
          "shell.execute_reply": "2022-09-04T11:42:56.580231Z"
        },
        "papermill": {
          "duration": 0.10167,
          "end_time": "2022-09-04T11:42:56.582867",
          "exception": false,
          "start_time": "2022-09-04T11:42:56.481197",
          "status": "completed"
        },
        "tags": [],
        "id": "034c650a",
        "outputId": "f6394efa-8e0e-4d9e-b399-450f7fc5d5f4"
      },
      "outputs": [
        {
          "data": {
            "text/html": [
              "<div>\n",
              "<style scoped>\n",
              "    .dataframe tbody tr th:only-of-type {\n",
              "        vertical-align: middle;\n",
              "    }\n",
              "\n",
              "    .dataframe tbody tr th {\n",
              "        vertical-align: top;\n",
              "    }\n",
              "\n",
              "    .dataframe thead th {\n",
              "        text-align: right;\n",
              "    }\n",
              "</style>\n",
              "<table border=\"1\" class=\"dataframe\">\n",
              "  <thead>\n",
              "    <tr style=\"text-align: right;\">\n",
              "      <th></th>\n",
              "      <th>count</th>\n",
              "      <th>mean</th>\n",
              "      <th>std</th>\n",
              "      <th>min</th>\n",
              "      <th>25%</th>\n",
              "      <th>50%</th>\n",
              "      <th>75%</th>\n",
              "      <th>max</th>\n",
              "    </tr>\n",
              "  </thead>\n",
              "  <tbody>\n",
              "    <tr>\n",
              "      <th>id</th>\n",
              "      <td>1628.0</td>\n",
              "      <td>813.500000</td>\n",
              "      <td>470.107435</td>\n",
              "      <td>0.00</td>\n",
              "      <td>406.75</td>\n",
              "      <td>813.50</td>\n",
              "      <td>1220.25</td>\n",
              "      <td>1627.00</td>\n",
              "    </tr>\n",
              "    <tr>\n",
              "      <th>v_21</th>\n",
              "      <td>1628.0</td>\n",
              "      <td>4.893735</td>\n",
              "      <td>6.354640</td>\n",
              "      <td>3.00</td>\n",
              "      <td>3.00</td>\n",
              "      <td>3.00</td>\n",
              "      <td>4.00</td>\n",
              "      <td>65.00</td>\n",
              "    </tr>\n",
              "    <tr>\n",
              "      <th>v_32</th>\n",
              "      <td>1628.0</td>\n",
              "      <td>71.097666</td>\n",
              "      <td>56.517483</td>\n",
              "      <td>6.00</td>\n",
              "      <td>6.00</td>\n",
              "      <td>89.00</td>\n",
              "      <td>116.00</td>\n",
              "      <td>176.00</td>\n",
              "    </tr>\n",
              "    <tr>\n",
              "      <th>v_15</th>\n",
              "      <td>1628.0</td>\n",
              "      <td>11.465602</td>\n",
              "      <td>2.408124</td>\n",
              "      <td>10.00</td>\n",
              "      <td>10.00</td>\n",
              "      <td>10.00</td>\n",
              "      <td>12.00</td>\n",
              "      <td>22.00</td>\n",
              "    </tr>\n",
              "    <tr>\n",
              "      <th>v_4</th>\n",
              "      <td>1628.0</td>\n",
              "      <td>102.058968</td>\n",
              "      <td>44.984573</td>\n",
              "      <td>9.00</td>\n",
              "      <td>59.00</td>\n",
              "      <td>102.00</td>\n",
              "      <td>148.00</td>\n",
              "      <td>176.00</td>\n",
              "    </tr>\n",
              "    <tr>\n",
              "      <th>v_1</th>\n",
              "      <td>1628.0</td>\n",
              "      <td>0.903563</td>\n",
              "      <td>0.295281</td>\n",
              "      <td>0.00</td>\n",
              "      <td>1.00</td>\n",
              "      <td>1.00</td>\n",
              "      <td>1.00</td>\n",
              "      <td>1.00</td>\n",
              "    </tr>\n",
              "    <tr>\n",
              "      <th>v_8</th>\n",
              "      <td>1628.0</td>\n",
              "      <td>3.299754</td>\n",
              "      <td>4.469780</td>\n",
              "      <td>1.00</td>\n",
              "      <td>1.00</td>\n",
              "      <td>1.00</td>\n",
              "      <td>3.00</td>\n",
              "      <td>24.00</td>\n",
              "    </tr>\n",
              "    <tr>\n",
              "      <th>v_12</th>\n",
              "      <td>1628.0</td>\n",
              "      <td>19.086609</td>\n",
              "      <td>15.406055</td>\n",
              "      <td>16.00</td>\n",
              "      <td>16.00</td>\n",
              "      <td>16.00</td>\n",
              "      <td>16.00</td>\n",
              "      <td>172.00</td>\n",
              "    </tr>\n",
              "    <tr>\n",
              "      <th>v_25</th>\n",
              "      <td>1628.0</td>\n",
              "      <td>96.767199</td>\n",
              "      <td>78.752500</td>\n",
              "      <td>1.00</td>\n",
              "      <td>5.00</td>\n",
              "      <td>110.00</td>\n",
              "      <td>181.00</td>\n",
              "      <td>274.00</td>\n",
              "    </tr>\n",
              "    <tr>\n",
              "      <th>v_20</th>\n",
              "      <td>1628.0</td>\n",
              "      <td>171.600737</td>\n",
              "      <td>103.368968</td>\n",
              "      <td>6.00</td>\n",
              "      <td>60.00</td>\n",
              "      <td>175.00</td>\n",
              "      <td>251.00</td>\n",
              "      <td>324.00</td>\n",
              "    </tr>\n",
              "    <tr>\n",
              "      <th>v_18</th>\n",
              "      <td>1628.0</td>\n",
              "      <td>61.606265</td>\n",
              "      <td>53.562517</td>\n",
              "      <td>3.00</td>\n",
              "      <td>23.00</td>\n",
              "      <td>37.00</td>\n",
              "      <td>103.00</td>\n",
              "      <td>318.00</td>\n",
              "    </tr>\n",
              "    <tr>\n",
              "      <th>v_3</th>\n",
              "      <td>1628.0</td>\n",
              "      <td>68.415233</td>\n",
              "      <td>49.187194</td>\n",
              "      <td>5.00</td>\n",
              "      <td>39.00</td>\n",
              "      <td>70.00</td>\n",
              "      <td>87.00</td>\n",
              "      <td>441.00</td>\n",
              "    </tr>\n",
              "    <tr>\n",
              "      <th>v_11</th>\n",
              "      <td>1628.0</td>\n",
              "      <td>0.617322</td>\n",
              "      <td>0.486190</td>\n",
              "      <td>0.00</td>\n",
              "      <td>0.00</td>\n",
              "      <td>1.00</td>\n",
              "      <td>1.00</td>\n",
              "      <td>1.00</td>\n",
              "    </tr>\n",
              "    <tr>\n",
              "      <th>v_14</th>\n",
              "      <td>1628.0</td>\n",
              "      <td>0.015971</td>\n",
              "      <td>0.125400</td>\n",
              "      <td>0.00</td>\n",
              "      <td>0.00</td>\n",
              "      <td>0.00</td>\n",
              "      <td>0.00</td>\n",
              "      <td>1.00</td>\n",
              "    </tr>\n",
              "    <tr>\n",
              "      <th>v_26</th>\n",
              "      <td>1628.0</td>\n",
              "      <td>0.117936</td>\n",
              "      <td>0.322632</td>\n",
              "      <td>0.00</td>\n",
              "      <td>0.00</td>\n",
              "      <td>0.00</td>\n",
              "      <td>0.00</td>\n",
              "      <td>1.00</td>\n",
              "    </tr>\n",
              "    <tr>\n",
              "      <th>v_27</th>\n",
              "      <td>1628.0</td>\n",
              "      <td>0.740172</td>\n",
              "      <td>0.438675</td>\n",
              "      <td>0.00</td>\n",
              "      <td>0.00</td>\n",
              "      <td>1.00</td>\n",
              "      <td>1.00</td>\n",
              "      <td>1.00</td>\n",
              "    </tr>\n",
              "    <tr>\n",
              "      <th>v_30</th>\n",
              "      <td>1628.0</td>\n",
              "      <td>0.452088</td>\n",
              "      <td>0.497852</td>\n",
              "      <td>0.00</td>\n",
              "      <td>0.00</td>\n",
              "      <td>0.00</td>\n",
              "      <td>1.00</td>\n",
              "      <td>1.00</td>\n",
              "    </tr>\n",
              "    <tr>\n",
              "      <th>v_9</th>\n",
              "      <td>1628.0</td>\n",
              "      <td>0.221130</td>\n",
              "      <td>0.415136</td>\n",
              "      <td>0.00</td>\n",
              "      <td>0.00</td>\n",
              "      <td>0.00</td>\n",
              "      <td>0.00</td>\n",
              "      <td>1.00</td>\n",
              "    </tr>\n",
              "    <tr>\n",
              "      <th>v_31</th>\n",
              "      <td>1628.0</td>\n",
              "      <td>31.863636</td>\n",
              "      <td>7.538295</td>\n",
              "      <td>25.00</td>\n",
              "      <td>27.00</td>\n",
              "      <td>29.00</td>\n",
              "      <td>34.00</td>\n",
              "      <td>68.00</td>\n",
              "    </tr>\n",
              "    <tr>\n",
              "      <th>v_28</th>\n",
              "      <td>1628.0</td>\n",
              "      <td>0.038698</td>\n",
              "      <td>0.192933</td>\n",
              "      <td>0.00</td>\n",
              "      <td>0.00</td>\n",
              "      <td>0.00</td>\n",
              "      <td>0.00</td>\n",
              "      <td>1.00</td>\n",
              "    </tr>\n",
              "    <tr>\n",
              "      <th>v_13</th>\n",
              "      <td>1628.0</td>\n",
              "      <td>15.437346</td>\n",
              "      <td>3.119285</td>\n",
              "      <td>14.00</td>\n",
              "      <td>14.00</td>\n",
              "      <td>14.00</td>\n",
              "      <td>15.00</td>\n",
              "      <td>36.00</td>\n",
              "    </tr>\n",
              "    <tr>\n",
              "      <th>v_33</th>\n",
              "      <td>1628.0</td>\n",
              "      <td>30.039312</td>\n",
              "      <td>3.250973</td>\n",
              "      <td>23.00</td>\n",
              "      <td>29.00</td>\n",
              "      <td>29.00</td>\n",
              "      <td>30.00</td>\n",
              "      <td>49.00</td>\n",
              "    </tr>\n",
              "    <tr>\n",
              "      <th>v_17</th>\n",
              "      <td>1628.0</td>\n",
              "      <td>50.048526</td>\n",
              "      <td>4.651411</td>\n",
              "      <td>41.00</td>\n",
              "      <td>48.00</td>\n",
              "      <td>49.00</td>\n",
              "      <td>52.00</td>\n",
              "      <td>86.00</td>\n",
              "    </tr>\n",
              "    <tr>\n",
              "      <th>v_19</th>\n",
              "      <td>1628.0</td>\n",
              "      <td>23.399877</td>\n",
              "      <td>3.627787</td>\n",
              "      <td>18.00</td>\n",
              "      <td>21.00</td>\n",
              "      <td>24.00</td>\n",
              "      <td>25.00</td>\n",
              "      <td>44.00</td>\n",
              "    </tr>\n",
              "    <tr>\n",
              "      <th>v_29</th>\n",
              "      <td>1628.0</td>\n",
              "      <td>17.120393</td>\n",
              "      <td>5.182971</td>\n",
              "      <td>6.00</td>\n",
              "      <td>17.00</td>\n",
              "      <td>18.00</td>\n",
              "      <td>19.00</td>\n",
              "      <td>30.00</td>\n",
              "    </tr>\n",
              "    <tr>\n",
              "      <th>v_23</th>\n",
              "      <td>1628.0</td>\n",
              "      <td>3.909091</td>\n",
              "      <td>2.248068</td>\n",
              "      <td>3.00</td>\n",
              "      <td>3.00</td>\n",
              "      <td>3.00</td>\n",
              "      <td>3.00</td>\n",
              "      <td>17.00</td>\n",
              "    </tr>\n",
              "    <tr>\n",
              "      <th>v_24</th>\n",
              "      <td>1628.0</td>\n",
              "      <td>16.307125</td>\n",
              "      <td>2.810381</td>\n",
              "      <td>15.00</td>\n",
              "      <td>15.00</td>\n",
              "      <td>15.00</td>\n",
              "      <td>15.00</td>\n",
              "      <td>33.00</td>\n",
              "    </tr>\n",
              "    <tr>\n",
              "      <th>v_10</th>\n",
              "      <td>1628.0</td>\n",
              "      <td>26.020885</td>\n",
              "      <td>3.002487</td>\n",
              "      <td>19.00</td>\n",
              "      <td>25.00</td>\n",
              "      <td>25.00</td>\n",
              "      <td>27.00</td>\n",
              "      <td>42.00</td>\n",
              "    </tr>\n",
              "    <tr>\n",
              "      <th>v_5</th>\n",
              "      <td>1628.0</td>\n",
              "      <td>39.939189</td>\n",
              "      <td>4.606119</td>\n",
              "      <td>31.00</td>\n",
              "      <td>37.00</td>\n",
              "      <td>39.00</td>\n",
              "      <td>42.00</td>\n",
              "      <td>63.00</td>\n",
              "    </tr>\n",
              "    <tr>\n",
              "      <th>v_6</th>\n",
              "      <td>1628.0</td>\n",
              "      <td>13.204545</td>\n",
              "      <td>3.681453</td>\n",
              "      <td>8.00</td>\n",
              "      <td>11.00</td>\n",
              "      <td>13.00</td>\n",
              "      <td>15.00</td>\n",
              "      <td>30.00</td>\n",
              "    </tr>\n",
              "    <tr>\n",
              "      <th>v_22</th>\n",
              "      <td>1628.0</td>\n",
              "      <td>23.676290</td>\n",
              "      <td>5.555243</td>\n",
              "      <td>13.00</td>\n",
              "      <td>24.00</td>\n",
              "      <td>25.00</td>\n",
              "      <td>27.00</td>\n",
              "      <td>38.00</td>\n",
              "    </tr>\n",
              "    <tr>\n",
              "      <th>v_0</th>\n",
              "      <td>1628.0</td>\n",
              "      <td>12.900491</td>\n",
              "      <td>2.159281</td>\n",
              "      <td>12.00</td>\n",
              "      <td>12.00</td>\n",
              "      <td>12.00</td>\n",
              "      <td>12.00</td>\n",
              "      <td>26.00</td>\n",
              "    </tr>\n",
              "    <tr>\n",
              "      <th>v_7</th>\n",
              "      <td>1628.0</td>\n",
              "      <td>12.409091</td>\n",
              "      <td>3.416760</td>\n",
              "      <td>7.60</td>\n",
              "      <td>9.40</td>\n",
              "      <td>12.40</td>\n",
              "      <td>15.50</td>\n",
              "      <td>25.20</td>\n",
              "    </tr>\n",
              "    <tr>\n",
              "      <th>v_2</th>\n",
              "      <td>1628.0</td>\n",
              "      <td>1.997482</td>\n",
              "      <td>2.475053</td>\n",
              "      <td>-0.80</td>\n",
              "      <td>0.45</td>\n",
              "      <td>1.40</td>\n",
              "      <td>2.80</td>\n",
              "      <td>12.70</td>\n",
              "    </tr>\n",
              "    <tr>\n",
              "      <th>v_16</th>\n",
              "      <td>1628.0</td>\n",
              "      <td>0.834472</td>\n",
              "      <td>3.145214</td>\n",
              "      <td>-4.06</td>\n",
              "      <td>-1.70</td>\n",
              "      <td>0.79</td>\n",
              "      <td>2.02</td>\n",
              "      <td>12.51</td>\n",
              "    </tr>\n",
              "    <tr>\n",
              "      <th>v_34</th>\n",
              "      <td>1628.0</td>\n",
              "      <td>5.259828</td>\n",
              "      <td>3.611350</td>\n",
              "      <td>0.00</td>\n",
              "      <td>2.00</td>\n",
              "      <td>5.00</td>\n",
              "      <td>8.00</td>\n",
              "      <td>18.00</td>\n",
              "    </tr>\n",
              "    <tr>\n",
              "      <th>v_35</th>\n",
              "      <td>1628.0</td>\n",
              "      <td>49.468673</td>\n",
              "      <td>29.481917</td>\n",
              "      <td>0.00</td>\n",
              "      <td>23.75</td>\n",
              "      <td>49.00</td>\n",
              "      <td>76.00</td>\n",
              "      <td>108.00</td>\n",
              "    </tr>\n",
              "    <tr>\n",
              "      <th>v_36</th>\n",
              "      <td>1628.0</td>\n",
              "      <td>25.963145</td>\n",
              "      <td>14.984396</td>\n",
              "      <td>0.00</td>\n",
              "      <td>13.00</td>\n",
              "      <td>26.00</td>\n",
              "      <td>39.00</td>\n",
              "      <td>58.00</td>\n",
              "    </tr>\n",
              "    <tr>\n",
              "      <th>v_37</th>\n",
              "      <td>1628.0</td>\n",
              "      <td>20.894349</td>\n",
              "      <td>11.663796</td>\n",
              "      <td>0.00</td>\n",
              "      <td>11.00</td>\n",
              "      <td>21.00</td>\n",
              "      <td>31.00</td>\n",
              "      <td>49.00</td>\n",
              "    </tr>\n",
              "    <tr>\n",
              "      <th>v_38</th>\n",
              "      <td>1628.0</td>\n",
              "      <td>30.241400</td>\n",
              "      <td>17.931066</td>\n",
              "      <td>0.00</td>\n",
              "      <td>15.00</td>\n",
              "      <td>30.00</td>\n",
              "      <td>46.00</td>\n",
              "      <td>69.00</td>\n",
              "    </tr>\n",
              "    <tr>\n",
              "      <th>v_39</th>\n",
              "      <td>1628.0</td>\n",
              "      <td>40.323096</td>\n",
              "      <td>22.777727</td>\n",
              "      <td>0.00</td>\n",
              "      <td>21.00</td>\n",
              "      <td>40.00</td>\n",
              "      <td>60.00</td>\n",
              "      <td>87.00</td>\n",
              "    </tr>\n",
              "    <tr>\n",
              "      <th>v_40</th>\n",
              "      <td>1628.0</td>\n",
              "      <td>3.245086</td>\n",
              "      <td>2.684748</td>\n",
              "      <td>0.00</td>\n",
              "      <td>1.00</td>\n",
              "      <td>3.00</td>\n",
              "      <td>5.00</td>\n",
              "      <td>14.00</td>\n",
              "    </tr>\n",
              "  </tbody>\n",
              "</table>\n",
              "</div>"
            ],
            "text/plain": [
              "       count        mean         std    min     25%     50%      75%      max\n",
              "id    1628.0  813.500000  470.107435   0.00  406.75  813.50  1220.25  1627.00\n",
              "v_21  1628.0    4.893735    6.354640   3.00    3.00    3.00     4.00    65.00\n",
              "v_32  1628.0   71.097666   56.517483   6.00    6.00   89.00   116.00   176.00\n",
              "v_15  1628.0   11.465602    2.408124  10.00   10.00   10.00    12.00    22.00\n",
              "v_4   1628.0  102.058968   44.984573   9.00   59.00  102.00   148.00   176.00\n",
              "v_1   1628.0    0.903563    0.295281   0.00    1.00    1.00     1.00     1.00\n",
              "v_8   1628.0    3.299754    4.469780   1.00    1.00    1.00     3.00    24.00\n",
              "v_12  1628.0   19.086609   15.406055  16.00   16.00   16.00    16.00   172.00\n",
              "v_25  1628.0   96.767199   78.752500   1.00    5.00  110.00   181.00   274.00\n",
              "v_20  1628.0  171.600737  103.368968   6.00   60.00  175.00   251.00   324.00\n",
              "v_18  1628.0   61.606265   53.562517   3.00   23.00   37.00   103.00   318.00\n",
              "v_3   1628.0   68.415233   49.187194   5.00   39.00   70.00    87.00   441.00\n",
              "v_11  1628.0    0.617322    0.486190   0.00    0.00    1.00     1.00     1.00\n",
              "v_14  1628.0    0.015971    0.125400   0.00    0.00    0.00     0.00     1.00\n",
              "v_26  1628.0    0.117936    0.322632   0.00    0.00    0.00     0.00     1.00\n",
              "v_27  1628.0    0.740172    0.438675   0.00    0.00    1.00     1.00     1.00\n",
              "v_30  1628.0    0.452088    0.497852   0.00    0.00    0.00     1.00     1.00\n",
              "v_9   1628.0    0.221130    0.415136   0.00    0.00    0.00     0.00     1.00\n",
              "v_31  1628.0   31.863636    7.538295  25.00   27.00   29.00    34.00    68.00\n",
              "v_28  1628.0    0.038698    0.192933   0.00    0.00    0.00     0.00     1.00\n",
              "v_13  1628.0   15.437346    3.119285  14.00   14.00   14.00    15.00    36.00\n",
              "v_33  1628.0   30.039312    3.250973  23.00   29.00   29.00    30.00    49.00\n",
              "v_17  1628.0   50.048526    4.651411  41.00   48.00   49.00    52.00    86.00\n",
              "v_19  1628.0   23.399877    3.627787  18.00   21.00   24.00    25.00    44.00\n",
              "v_29  1628.0   17.120393    5.182971   6.00   17.00   18.00    19.00    30.00\n",
              "v_23  1628.0    3.909091    2.248068   3.00    3.00    3.00     3.00    17.00\n",
              "v_24  1628.0   16.307125    2.810381  15.00   15.00   15.00    15.00    33.00\n",
              "v_10  1628.0   26.020885    3.002487  19.00   25.00   25.00    27.00    42.00\n",
              "v_5   1628.0   39.939189    4.606119  31.00   37.00   39.00    42.00    63.00\n",
              "v_6   1628.0   13.204545    3.681453   8.00   11.00   13.00    15.00    30.00\n",
              "v_22  1628.0   23.676290    5.555243  13.00   24.00   25.00    27.00    38.00\n",
              "v_0   1628.0   12.900491    2.159281  12.00   12.00   12.00    12.00    26.00\n",
              "v_7   1628.0   12.409091    3.416760   7.60    9.40   12.40    15.50    25.20\n",
              "v_2   1628.0    1.997482    2.475053  -0.80    0.45    1.40     2.80    12.70\n",
              "v_16  1628.0    0.834472    3.145214  -4.06   -1.70    0.79     2.02    12.51\n",
              "v_34  1628.0    5.259828    3.611350   0.00    2.00    5.00     8.00    18.00\n",
              "v_35  1628.0   49.468673   29.481917   0.00   23.75   49.00    76.00   108.00\n",
              "v_36  1628.0   25.963145   14.984396   0.00   13.00   26.00    39.00    58.00\n",
              "v_37  1628.0   20.894349   11.663796   0.00   11.00   21.00    31.00    49.00\n",
              "v_38  1628.0   30.241400   17.931066   0.00   15.00   30.00    46.00    69.00\n",
              "v_39  1628.0   40.323096   22.777727   0.00   21.00   40.00    60.00    87.00\n",
              "v_40  1628.0    3.245086    2.684748   0.00    1.00    3.00     5.00    14.00"
            ]
          },
          "execution_count": 10,
          "metadata": {},
          "output_type": "execute_result"
        }
      ],
      "source": [
        "#statistics of test data\n",
        "df_test.describe().transpose()"
      ]
    },
    {
      "cell_type": "code",
      "execution_count": null,
      "id": "1241dd18",
      "metadata": {
        "execution": {
          "iopub.execute_input": "2022-09-04T11:42:56.607736Z",
          "iopub.status.busy": "2022-09-04T11:42:56.607466Z",
          "iopub.status.idle": "2022-09-04T11:42:56.613894Z",
          "shell.execute_reply": "2022-09-04T11:42:56.612883Z"
        },
        "papermill": {
          "duration": 0.021252,
          "end_time": "2022-09-04T11:42:56.615972",
          "exception": false,
          "start_time": "2022-09-04T11:42:56.594720",
          "status": "completed"
        },
        "tags": [],
        "id": "1241dd18"
      },
      "outputs": [],
      "source": [
        "#defining all the features\n",
        "categories_dict = {'v_1': 'Binary', 'v_26': 'Binary', 'v_11': 'Binary', 'v_14': 'Binary',\n",
        "                   'v_30': 'Binary', 'v_28': 'Binary', 'v_9': 'Binary', 'v_27': 'Binary',\n",
        "                   'v_32': 'Nominal', 'v_4': 'Nominal', 'v_3': 'Nominal', 'v_20': 'Nominal',\n",
        "                   'v_21': 'Nominal', 'v_18': 'Nominal', 'v_25': 'Nominal', 'v_12': 'Nominal', \n",
        "                   'v_31': 'Ordinal', 'v_15': 'Ordinal', 'v_19': 'Ordinal', 'v_13': 'Ordinal',\n",
        "                   'v_33': 'Ordinal', 'v_17': 'Ordinal', 'v_29': 'Ordinal', 'v_23': 'Ordinal',\n",
        "                   'v_6': 'Ordinal', 'v_24': 'Ordinal', 'v_10': 'Ordinal', 'v_5': 'Ordinal',\n",
        "                   'v_22': 'Ordinal', 'v_0': 'Ordinal', 'v_16': 'Ratio', 'v_2': 'Ratio', 'v_8': 'Ratio',\n",
        "                   'v_7': 'Ratio', 'v_34': 'Ratio', 'v_35': 'Ratio', 'v_36': 'Ratio', 'v_37': 'Ratio', \n",
        "                   'v_38': 'Ratio', 'v_39': 'Ratio', 'v_40': 'Ratio'}"
      ]
    },
    {
      "cell_type": "code",
      "execution_count": null,
      "id": "205b3e1d",
      "metadata": {
        "execution": {
          "iopub.execute_input": "2022-09-04T11:42:56.642018Z",
          "iopub.status.busy": "2022-09-04T11:42:56.641686Z",
          "iopub.status.idle": "2022-09-04T11:42:56.753611Z",
          "shell.execute_reply": "2022-09-04T11:42:56.752865Z"
        },
        "papermill": {
          "duration": 0.12697,
          "end_time": "2022-09-04T11:42:56.755435",
          "exception": false,
          "start_time": "2022-09-04T11:42:56.628465",
          "status": "completed"
        },
        "tags": [],
        "id": "205b3e1d"
      },
      "outputs": [],
      "source": [
        "#all the columns\n",
        "from sklearn.preprocessing import OneHotEncoder, StandardScaler, MinMaxScaler\n",
        "\n",
        "nominal_columns = [column for column in df.columns if column in categories_dict and categories_dict[column] == 'Nominal']\n",
        "ordinal_columns = [column for column in df.columns if column in categories_dict and categories_dict[column] == 'Ordinal']\n",
        "ratio_columns = [column for column in df.columns if column in categories_dict and categories_dict[column] == 'Ratio']\n",
        "binary_columns = [column for column in df.columns if column in categories_dict and categories_dict[column] == 'Binary']\n"
      ]
    },
    {
      "cell_type": "code",
      "execution_count": null,
      "id": "940bf408",
      "metadata": {
        "execution": {
          "iopub.execute_input": "2022-09-04T11:42:56.781595Z",
          "iopub.status.busy": "2022-09-04T11:42:56.781113Z",
          "iopub.status.idle": "2022-09-04T11:42:59.763808Z",
          "shell.execute_reply": "2022-09-04T11:42:59.762960Z"
        },
        "papermill": {
          "duration": 2.997982,
          "end_time": "2022-09-04T11:42:59.765749",
          "exception": false,
          "start_time": "2022-09-04T11:42:56.767767",
          "status": "completed"
        },
        "tags": [],
        "id": "940bf408",
        "outputId": "3c838f7a-8885-4e02-cae7-4312a22c4358"
      },
      "outputs": [
        {
          "data": {
            "text/plain": [
              "<AxesSubplot:ylabel='Density'>"
            ]
          },
          "execution_count": 13,
          "metadata": {},
          "output_type": "execute_result"
        },
        {
          "data": {
            "image/png": "[encoded data removed]",
            "text/plain": [
              "<Figure size 432x288 with 1 Axes>"
            ]
          },
          "metadata": {
            "needs_background": "light"
          },
          "output_type": "display_data"
        }
      ],
      "source": [
        "#kde plot for all the columns of train data\n",
        "df.plot.kde()"
      ]
    },
    {
      "cell_type": "code",
      "execution_count": null,
      "id": "ae420467",
      "metadata": {
        "execution": {
          "iopub.execute_input": "2022-09-04T11:42:59.791630Z",
          "iopub.status.busy": "2022-09-04T11:42:59.791356Z",
          "iopub.status.idle": "2022-09-04T11:43:01.403741Z",
          "shell.execute_reply": "2022-09-04T11:43:01.402903Z"
        },
        "papermill": {
          "duration": 1.627172,
          "end_time": "2022-09-04T11:43:01.405423",
          "exception": false,
          "start_time": "2022-09-04T11:42:59.778251",
          "status": "completed"
        },
        "tags": [],
        "id": "ae420467",
        "outputId": "2777765d-02fd-47b9-dd84-0e5b444f64c0"
      },
      "outputs": [
        {
          "data": {
            "text/plain": [
              "<AxesSubplot:ylabel='Density'>"
            ]
          },
          "execution_count": 14,
          "metadata": {},
          "output_type": "execute_result"
        },
        {
          "data": {
            "image/png": "[encoded data removed]",
            "text/plain": [
              "<Figure size 432x288 with 1 Axes>"
            ]
          },
          "metadata": {
            "needs_background": "light"
          },
          "output_type": "display_data"
        }
      ],
      "source": [
        "#kde plot for all the columns of test data\n",
        "df_test.plot.kde()"
      ]
    },
    {
      "cell_type": "markdown",
      "id": "beab772c",
      "metadata": {
        "papermill": {
          "duration": 0.013437,
          "end_time": "2022-09-04T11:43:01.431968",
          "exception": false,
          "start_time": "2022-09-04T11:43:01.418531",
          "status": "completed"
        },
        "tags": [],
        "id": "beab772c"
      },
      "source": [
        "#scales for all the features are different. So, performing scaling on ordinal,ratio and nominal features.\n",
        "#Tried OHE on the nominal features too, but that is not giving a good accuracy. \n",
        "#so performing Standard Scaler on the  ordinal,ratio and nominal features."
      ]
    },
    {
      "cell_type": "code",
      "execution_count": null,
      "id": "fc5f45ad",
      "metadata": {
        "execution": {
          "iopub.execute_input": "2022-09-04T11:43:01.459468Z",
          "iopub.status.busy": "2022-09-04T11:43:01.458881Z",
          "iopub.status.idle": "2022-09-04T11:43:01.468328Z",
          "shell.execute_reply": "2022-09-04T11:43:01.467489Z"
        },
        "papermill": {
          "duration": 0.024704,
          "end_time": "2022-09-04T11:43:01.469947",
          "exception": false,
          "start_time": "2022-09-04T11:43:01.445243",
          "status": "completed"
        },
        "tags": [],
        "id": "fc5f45ad"
      },
      "outputs": [],
      "source": [
        "#scaling on train set\n",
        "scaler = StandardScaler()\n",
        "ordinal_ratio_columns = np.hstack((df[ordinal_columns].values, df[ratio_columns].values, df[nominal_columns].values))\n",
        "scaler.fit(ordinal_ratio_columns)\n",
        "scaled_ordinal_ratio_columns = scaler.transform(ordinal_ratio_columns)\n",
        "\n",
        "complete_df = np.hstack((df[binary_columns].values, scaled_ordinal_ratio_columns)) "
      ]
    },
    {
      "cell_type": "code",
      "execution_count": null,
      "id": "288a162b",
      "metadata": {
        "execution": {
          "iopub.execute_input": "2022-09-04T11:43:01.496866Z",
          "iopub.status.busy": "2022-09-04T11:43:01.496409Z",
          "iopub.status.idle": "2022-09-04T11:43:01.504049Z",
          "shell.execute_reply": "2022-09-04T11:43:01.503216Z"
        },
        "papermill": {
          "duration": 0.022936,
          "end_time": "2022-09-04T11:43:01.505703",
          "exception": false,
          "start_time": "2022-09-04T11:43:01.482767",
          "status": "completed"
        },
        "tags": [],
        "id": "288a162b"
      },
      "outputs": [],
      "source": [
        "#scaling on test set\n",
        "ordinal_ratio_columns_test = np.hstack((df_test[ordinal_columns].values, df_test[ratio_columns].values, df_test[nominal_columns].values))\n",
        "scaled_ordinal_ratio_columns_test = scaler.transform(ordinal_ratio_columns_test)\n",
        "complete_df_test = np.hstack((df_test[binary_columns].values, scaled_ordinal_ratio_columns_test)) "
      ]
    },
    {
      "cell_type": "code",
      "execution_count": null,
      "id": "44ab9c27",
      "metadata": {
        "execution": {
          "iopub.execute_input": "2022-09-04T11:43:01.532454Z",
          "iopub.status.busy": "2022-09-04T11:43:01.532162Z",
          "iopub.status.idle": "2022-09-04T11:43:01.536319Z",
          "shell.execute_reply": "2022-09-04T11:43:01.535550Z"
        },
        "papermill": {
          "duration": 0.019345,
          "end_time": "2022-09-04T11:43:01.537908",
          "exception": false,
          "start_time": "2022-09-04T11:43:01.518563",
          "status": "completed"
        },
        "tags": [],
        "id": "44ab9c27"
      },
      "outputs": [],
      "source": [
        "#separating the labels from train file\n",
        "X = complete_df\n",
        "y = df.iloc[:, -1].values\n",
        "\n",
        "X_test = complete_df_test"
      ]
    },
    {
      "cell_type": "code",
      "execution_count": null,
      "id": "42d3dd43",
      "metadata": {
        "execution": {
          "iopub.execute_input": "2022-09-04T11:43:01.564488Z",
          "iopub.status.busy": "2022-09-04T11:43:01.564227Z",
          "iopub.status.idle": "2022-09-04T11:43:01.568600Z",
          "shell.execute_reply": "2022-09-04T11:43:01.568008Z"
        },
        "papermill": {
          "duration": 0.01909,
          "end_time": "2022-09-04T11:43:01.570027",
          "exception": false,
          "start_time": "2022-09-04T11:43:01.550937",
          "status": "completed"
        },
        "tags": [],
        "id": "42d3dd43",
        "outputId": "1f1edf15-3eef-48c2-fe11-cb991982566e"
      },
      "outputs": [
        {
          "data": {
            "text/plain": [
              "(3796, 41)"
            ]
          },
          "execution_count": 18,
          "metadata": {},
          "output_type": "execute_result"
        }
      ],
      "source": [
        "#shape of X defined\n",
        "X.shape"
      ]
    },
    {
      "cell_type": "code",
      "execution_count": null,
      "id": "91c238d9",
      "metadata": {
        "execution": {
          "iopub.execute_input": "2022-09-04T11:43:01.596825Z",
          "iopub.status.busy": "2022-09-04T11:43:01.596564Z",
          "iopub.status.idle": "2022-09-04T11:43:01.601710Z",
          "shell.execute_reply": "2022-09-04T11:43:01.600934Z"
        },
        "papermill": {
          "duration": 0.020481,
          "end_time": "2022-09-04T11:43:01.603321",
          "exception": false,
          "start_time": "2022-09-04T11:43:01.582840",
          "status": "completed"
        },
        "tags": [],
        "id": "91c238d9",
        "outputId": "a7b532d4-3946-4607-a5ab-0cb671c0920a"
      },
      "outputs": [
        {
          "data": {
            "text/plain": [
              "(1628, 41)"
            ]
          },
          "execution_count": 19,
          "metadata": {},
          "output_type": "execute_result"
        }
      ],
      "source": [
        "#shape of X_test defined\n",
        "X_test.shape"
      ]
    },
    {
      "cell_type": "markdown",
      "id": "cf679e2e",
      "metadata": {
        "papermill": {
          "duration": 0.012907,
          "end_time": "2022-09-04T11:43:01.629175",
          "exception": false,
          "start_time": "2022-09-04T11:43:01.616268",
          "status": "completed"
        },
        "tags": [],
        "id": "cf679e2e"
      },
      "source": [
        "sanity check. Both the train and test set have same no. of columns/features."
      ]
    },
    {
      "cell_type": "code",
      "execution_count": null,
      "id": "2903a48f",
      "metadata": {
        "execution": {
          "iopub.execute_input": "2022-09-04T11:43:01.656318Z",
          "iopub.status.busy": "2022-09-04T11:43:01.656037Z",
          "iopub.status.idle": "2022-09-04T11:43:01.659795Z",
          "shell.execute_reply": "2022-09-04T11:43:01.659023Z"
        },
        "papermill": {
          "duration": 0.01951,
          "end_time": "2022-09-04T11:43:01.661577",
          "exception": false,
          "start_time": "2022-09-04T11:43:01.642067",
          "status": "completed"
        },
        "tags": [],
        "id": "2903a48f"
      },
      "outputs": [],
      "source": [
        "#Using Logistic Regression as Baseline model\n",
        "#Performing cross validation for checking metrics\n",
        "#F1_score(micro) is being used as a metric due to imbalance of classes.\n",
        "from sklearn.linear_model import LogisticRegression\n",
        "from sklearn.model_selection import cross_val_score\n",
        "clf_logit = LogisticRegression()\n",
        "cvs = cross_val_score(clf_logit, X, y, cv = 5,scoring='f1_micro')\n",
        "cvs"
      ]
    },
    {
      "cell_type": "code",
      "execution_count": null,
      "id": "5042aeb4",
      "metadata": {
        "execution": {
          "iopub.execute_input": "2022-09-04T11:43:01.690164Z",
          "iopub.status.busy": "2022-09-04T11:43:01.689653Z",
          "iopub.status.idle": "2022-09-04T11:43:01.693026Z",
          "shell.execute_reply": "2022-09-04T11:43:01.692484Z"
        },
        "papermill": {
          "duration": 0.019195,
          "end_time": "2022-09-04T11:43:01.694605",
          "exception": false,
          "start_time": "2022-09-04T11:43:01.675410",
          "status": "completed"
        },
        "tags": [],
        "id": "5042aeb4"
      },
      "outputs": [],
      "source": [
        "#printing confusion matrix\n",
        "#from sklearn.metrics import confusion_matrix\n",
        "clf_logit.fit(X,y)\n",
        "y_pred = clf_logit.predict(X)\n",
        "\n",
        "print(confusion_matrix(y, y_pred))"
      ]
    },
    {
      "cell_type": "markdown",
      "id": "1ea7a67c",
      "metadata": {
        "papermill": {
          "duration": 0.01295,
          "end_time": "2022-09-04T11:43:01.720907",
          "exception": false,
          "start_time": "2022-09-04T11:43:01.707957",
          "status": "completed"
        },
        "tags": [],
        "id": "1ea7a67c"
      },
      "source": [
        "The model is poorly predicting class 2 specifically.\n",
        "Tried with different C values, but didn't work well.\n",
        "\n"
      ]
    },
    {
      "cell_type": "code",
      "execution_count": null,
      "id": "e2fba29f",
      "metadata": {
        "execution": {
          "iopub.execute_input": "2022-09-04T11:43:01.749080Z",
          "iopub.status.busy": "2022-09-04T11:43:01.748574Z",
          "iopub.status.idle": "2022-09-04T11:43:01.751890Z",
          "shell.execute_reply": "2022-09-04T11:43:01.751334Z"
        },
        "papermill": {
          "duration": 0.019332,
          "end_time": "2022-09-04T11:43:01.753589",
          "exception": false,
          "start_time": "2022-09-04T11:43:01.734257",
          "status": "completed"
        },
        "tags": [],
        "id": "e2fba29f"
      },
      "outputs": [],
      "source": [
        "#KNN classifier\n",
        "from sklearn.neighbors import KNeighborsClassifier\n",
        "clf_knn = KNeighborsClassifier(n_neighbors=3)\n",
        "cvs = cross_val_score(clf_knn, X, y, cv = 5,scoring='f1_micro')\n",
        "cvs"
      ]
    },
    {
      "cell_type": "code",
      "execution_count": null,
      "id": "ff72fc03",
      "metadata": {
        "execution": {
          "iopub.execute_input": "2022-09-04T11:43:01.781660Z",
          "iopub.status.busy": "2022-09-04T11:43:01.781412Z",
          "iopub.status.idle": "2022-09-04T11:43:01.784557Z",
          "shell.execute_reply": "2022-09-04T11:43:01.783852Z"
        },
        "papermill": {
          "duration": 0.019168,
          "end_time": "2022-09-04T11:43:01.786100",
          "exception": false,
          "start_time": "2022-09-04T11:43:01.766932",
          "status": "completed"
        },
        "tags": [],
        "id": "ff72fc03"
      },
      "outputs": [],
      "source": [
        "#Using LDA\n",
        "from sklearn.discriminant_analysis import LinearDiscriminantAnalysis\n",
        "clf_lda= LinearDiscriminantAnalysis()\n",
        "cvs = cross_val_score(clf_lda, X, y, cv = 5,scoring='f1_micro')\n",
        "cvs"
      ]
    },
    {
      "cell_type": "code",
      "execution_count": null,
      "id": "648897ef",
      "metadata": {
        "execution": {
          "iopub.execute_input": "2022-09-04T11:43:01.814065Z",
          "iopub.status.busy": "2022-09-04T11:43:01.813665Z",
          "iopub.status.idle": "2022-09-04T11:43:01.818817Z",
          "shell.execute_reply": "2022-09-04T11:43:01.817444Z"
        },
        "papermill": {
          "duration": 0.020878,
          "end_time": "2022-09-04T11:43:01.820375",
          "exception": false,
          "start_time": "2022-09-04T11:43:01.799497",
          "status": "completed"
        },
        "tags": [],
        "id": "648897ef"
      },
      "outputs": [],
      "source": [
        "#DecisionTreeClassifier\n",
        "\n",
        "from sklearn.tree import DecisionTreeClassifier\n",
        "clf_dt = DecisionTreeClassifier(random_state=126)\n",
        "cvs = cross_val_score(clf_dt, X, y, cv = 5, scoring='f1_micro')\n",
        "cvs"
      ]
    },
    {
      "cell_type": "code",
      "execution_count": null,
      "id": "0a86bca7",
      "metadata": {
        "execution": {
          "iopub.execute_input": "2022-09-04T11:43:01.847697Z",
          "iopub.status.busy": "2022-09-04T11:43:01.846976Z",
          "iopub.status.idle": "2022-09-04T11:43:01.850131Z",
          "shell.execute_reply": "2022-09-04T11:43:01.849641Z"
        },
        "papermill": {
          "duration": 0.018235,
          "end_time": "2022-09-04T11:43:01.851570",
          "exception": false,
          "start_time": "2022-09-04T11:43:01.833335",
          "status": "completed"
        },
        "tags": [],
        "id": "0a86bca7"
      },
      "outputs": [],
      "source": [
        "clf_dt.fit(X,y)\n",
        "y_pred = clf_dt.predict(X)\n",
        "\n",
        "print(confusion_matrix(y, y_pred))"
      ]
    },
    {
      "cell_type": "code",
      "execution_count": null,
      "id": "861d4f56",
      "metadata": {
        "execution": {
          "iopub.execute_input": "2022-09-04T11:43:01.878541Z",
          "iopub.status.busy": "2022-09-04T11:43:01.878187Z",
          "iopub.status.idle": "2022-09-04T11:43:01.881314Z",
          "shell.execute_reply": "2022-09-04T11:43:01.880807Z"
        },
        "papermill": {
          "duration": 0.018082,
          "end_time": "2022-09-04T11:43:01.882742",
          "exception": false,
          "start_time": "2022-09-04T11:43:01.864660",
          "status": "completed"
        },
        "tags": [],
        "id": "861d4f56"
      },
      "outputs": [],
      "source": [
        "#Hyperparameter search for decision tree model\n",
        "from sklearn.model_selection import GridSearchCV\n",
        "decisiontreeclassifier_model = GridSearchCV(clf_dt,\n",
        "                      {'criterion':['entropy', 'gini'],\n",
        "                          'splitter':['random','best'],\n",
        "                      'min_samples_leaf':[2,4,6,8,10],\n",
        "                         'max_depth':[3,4,5,6]\n",
        "                          } ,\n",
        "                        cv = 5, \n",
        "                      return_train_score = True)"
      ]
    },
    {
      "cell_type": "code",
      "execution_count": null,
      "id": "7a48bfc8",
      "metadata": {
        "execution": {
          "iopub.execute_input": "2022-09-04T11:43:01.909495Z",
          "iopub.status.busy": "2022-09-04T11:43:01.909152Z",
          "iopub.status.idle": "2022-09-04T11:43:01.911570Z",
          "shell.execute_reply": "2022-09-04T11:43:01.911115Z"
        },
        "papermill": {
          "duration": 0.01738,
          "end_time": "2022-09-04T11:43:01.912963",
          "exception": false,
          "start_time": "2022-09-04T11:43:01.895583",
          "status": "completed"
        },
        "tags": [],
        "id": "7a48bfc8"
      },
      "outputs": [],
      "source": [
        "decisiontreeclassifier_model.fit(X, y)\n",
        "print(decisiontreeclassifier_model.best_params_)"
      ]
    },
    {
      "cell_type": "code",
      "execution_count": null,
      "id": "58f747ba",
      "metadata": {
        "execution": {
          "iopub.execute_input": "2022-09-04T11:43:01.940161Z",
          "iopub.status.busy": "2022-09-04T11:43:01.939752Z",
          "iopub.status.idle": "2022-09-04T11:43:01.942841Z",
          "shell.execute_reply": "2022-09-04T11:43:01.942235Z"
        },
        "papermill": {
          "duration": 0.018618,
          "end_time": "2022-09-04T11:43:01.944429",
          "exception": false,
          "start_time": "2022-09-04T11:43:01.925811",
          "status": "completed"
        },
        "tags": [],
        "id": "58f747ba"
      },
      "outputs": [],
      "source": [
        "clf_dt = DecisionTreeClassifier(random_state=126,criterion='gini', max_depth=5,min_samples_leaf=2, splitter='best')\n",
        "cvs = cross_val_score(clf_dt, X, y, cv = 5, scoring='f1_micro')\n",
        "cvs"
      ]
    },
    {
      "cell_type": "code",
      "execution_count": null,
      "id": "57c85afd",
      "metadata": {
        "execution": {
          "iopub.execute_input": "2022-09-04T11:43:01.971349Z",
          "iopub.status.busy": "2022-09-04T11:43:01.971107Z",
          "iopub.status.idle": "2022-09-04T11:43:01.974774Z",
          "shell.execute_reply": "2022-09-04T11:43:01.974100Z"
        },
        "papermill": {
          "duration": 0.01901,
          "end_time": "2022-09-04T11:43:01.976380",
          "exception": false,
          "start_time": "2022-09-04T11:43:01.957370",
          "status": "completed"
        },
        "tags": [],
        "id": "57c85afd"
      },
      "outputs": [],
      "source": [
        "#Random Forest Classifer model\n",
        "from sklearn.ensemble import RandomForestClassifier\n",
        "clf_rf = RandomForestClassifier(random_state=126, criterion='gini',n_estimators=100, max_depth=6, min_samples_leaf=2,max_features='sqrt')\n",
        "cvs = cross_val_score(clf_rf, X, y, cv = 5,scoring='f1_micro')\n",
        "cvs"
      ]
    },
    {
      "cell_type": "code",
      "execution_count": null,
      "id": "14f075d7",
      "metadata": {
        "execution": {
          "iopub.execute_input": "2022-09-04T11:43:02.004190Z",
          "iopub.status.busy": "2022-09-04T11:43:02.003925Z",
          "iopub.status.idle": "2022-09-04T11:43:02.007381Z",
          "shell.execute_reply": "2022-09-04T11:43:02.006739Z"
        },
        "papermill": {
          "duration": 0.019056,
          "end_time": "2022-09-04T11:43:02.008817",
          "exception": false,
          "start_time": "2022-09-04T11:43:01.989761",
          "status": "completed"
        },
        "tags": [],
        "id": "14f075d7"
      },
      "outputs": [],
      "source": [
        "clf_rf.fit(X,y)\n",
        "y_pred = clf_rf.predict(X)\n",
        "\n",
        "print(confusion_matrix(y, y_pred))"
      ]
    },
    {
      "cell_type": "code",
      "execution_count": null,
      "id": "5c7897f1",
      "metadata": {
        "execution": {
          "iopub.execute_input": "2022-09-04T11:43:02.035713Z",
          "iopub.status.busy": "2022-09-04T11:43:02.035152Z",
          "iopub.status.idle": "2022-09-04T11:43:02.038270Z",
          "shell.execute_reply": "2022-09-04T11:43:02.037709Z"
        },
        "papermill": {
          "duration": 0.01783,
          "end_time": "2022-09-04T11:43:02.039603",
          "exception": false,
          "start_time": "2022-09-04T11:43:02.021773",
          "status": "completed"
        },
        "tags": [],
        "id": "5c7897f1"
      },
      "outputs": [],
      "source": [
        "#HPT for RFC model\n",
        "rfc_model= GridSearchCV(clf_rf,{'n_estimators':[100,200,300,400],'criterion':['entropy', 'gini'],\n",
        "                          \n",
        "                        'min_samples_leaf':[2,4,6,8,10],\n",
        "                          'max_depth':[3,4,5,6], 'max_features':['sqrt','log2']\n",
        "                          },\n",
        "                     cv = 5, \n",
        "                        return_train_score = True)"
      ]
    },
    {
      "cell_type": "code",
      "execution_count": null,
      "id": "542a23b7",
      "metadata": {
        "execution": {
          "iopub.execute_input": "2022-09-04T11:43:02.066501Z",
          "iopub.status.busy": "2022-09-04T11:43:02.066078Z",
          "iopub.status.idle": "2022-09-04T11:43:02.068723Z",
          "shell.execute_reply": "2022-09-04T11:43:02.068241Z"
        },
        "papermill": {
          "duration": 0.017657,
          "end_time": "2022-09-04T11:43:02.070078",
          "exception": false,
          "start_time": "2022-09-04T11:43:02.052421",
          "status": "completed"
        },
        "tags": [],
        "id": "542a23b7"
      },
      "outputs": [],
      "source": [
        "rfc_model.fit(X, y)\n",
        "print(rfc_model.best_params_)"
      ]
    },
    {
      "cell_type": "code",
      "execution_count": null,
      "id": "503aacb8",
      "metadata": {
        "execution": {
          "iopub.execute_input": "2022-09-04T11:43:02.097384Z",
          "iopub.status.busy": "2022-09-04T11:43:02.096927Z",
          "iopub.status.idle": "2022-09-04T11:43:02.099702Z",
          "shell.execute_reply": "2022-09-04T11:43:02.099240Z"
        },
        "papermill": {
          "duration": 0.018208,
          "end_time": "2022-09-04T11:43:02.101076",
          "exception": false,
          "start_time": "2022-09-04T11:43:02.082868",
          "status": "completed"
        },
        "tags": [],
        "id": "503aacb8"
      },
      "outputs": [],
      "source": [
        "#Next model is Adaboost classifier\n",
        "from sklearn.ensemble import AdaBoostClassifier\n",
        "model1 = AdaBoostClassifier(random_state = 1)\n",
        "model1.fit(X, y)\n",
        "cvs = cross_val_score(model1, X, y, cv = 5,scoring='f1_micro')\n",
        "cvs\n"
      ]
    },
    {
      "cell_type": "code",
      "execution_count": null,
      "id": "470cd799",
      "metadata": {
        "execution": {
          "iopub.execute_input": "2022-09-04T11:43:02.128159Z",
          "iopub.status.busy": "2022-09-04T11:43:02.127599Z",
          "iopub.status.idle": "2022-09-04T11:43:02.130370Z",
          "shell.execute_reply": "2022-09-04T11:43:02.129900Z"
        },
        "papermill": {
          "duration": 0.017638,
          "end_time": "2022-09-04T11:43:02.131722",
          "exception": false,
          "start_time": "2022-09-04T11:43:02.114084",
          "status": "completed"
        },
        "tags": [],
        "id": "470cd799"
      },
      "outputs": [],
      "source": [
        "model1.fit(X,y)\n",
        "y_pred = model1.predict(X)\n",
        "\n",
        "print(confusion_matrix(y, y_pred))"
      ]
    },
    {
      "cell_type": "code",
      "execution_count": null,
      "id": "4b4a874c",
      "metadata": {
        "execution": {
          "iopub.execute_input": "2022-09-04T11:43:02.158725Z",
          "iopub.status.busy": "2022-09-04T11:43:02.158463Z",
          "iopub.status.idle": "2022-09-04T11:43:02.161342Z",
          "shell.execute_reply": "2022-09-04T11:43:02.160821Z"
        },
        "papermill": {
          "duration": 0.018083,
          "end_time": "2022-09-04T11:43:02.162631",
          "exception": false,
          "start_time": "2022-09-04T11:43:02.144548",
          "status": "completed"
        },
        "tags": [],
        "id": "4b4a874c"
      },
      "outputs": [],
      "source": [
        "#support vector machine model\n",
        "from sklearn.svm import SVC\n",
        "clf_svm = SVC(gamma='scale',decision_function_shape='ovo',C=1.0)\n",
        "cvs = cross_val_score(clf_svm, X, y, cv = 5,scoring='f1_micro')\n",
        "cvs\n",
        "print(\"Mean score of %0.2f with a standard deviation of %0.2f\" % (cvs.mean(), cvs.std()))"
      ]
    },
    {
      "cell_type": "code",
      "execution_count": null,
      "id": "d6cd777f",
      "metadata": {
        "execution": {
          "iopub.execute_input": "2022-09-04T11:43:02.189317Z",
          "iopub.status.busy": "2022-09-04T11:43:02.188849Z",
          "iopub.status.idle": "2022-09-04T11:43:02.191637Z",
          "shell.execute_reply": "2022-09-04T11:43:02.191159Z"
        },
        "papermill": {
          "duration": 0.017489,
          "end_time": "2022-09-04T11:43:02.192954",
          "exception": false,
          "start_time": "2022-09-04T11:43:02.175465",
          "status": "completed"
        },
        "tags": [],
        "id": "d6cd777f"
      },
      "outputs": [],
      "source": [
        "clf_svm.fit(X,y)\n",
        "y_pred = clf_svm.predict(X)\n",
        "\n",
        "print(confusion_matrix(y, y_pred))"
      ]
    },
    {
      "cell_type": "code",
      "execution_count": null,
      "id": "72f81bb9",
      "metadata": {
        "execution": {
          "iopub.execute_input": "2022-09-04T11:43:02.220525Z",
          "iopub.status.busy": "2022-09-04T11:43:02.220080Z",
          "iopub.status.idle": "2022-09-04T11:43:02.222798Z",
          "shell.execute_reply": "2022-09-04T11:43:02.222320Z"
        },
        "papermill": {
          "duration": 0.018275,
          "end_time": "2022-09-04T11:43:02.224167",
          "exception": false,
          "start_time": "2022-09-04T11:43:02.205892",
          "status": "completed"
        },
        "tags": [],
        "id": "72f81bb9"
      },
      "outputs": [],
      "source": [
        "#Gradient boosting classifier method\n",
        "from sklearn.ensemble import GradientBoostingClassifier\n",
        "clf_gbc = GradientBoostingClassifier()\n",
        "clf_gbc.fit(X,y)"
      ]
    },
    {
      "cell_type": "code",
      "execution_count": null,
      "id": "a6a0d099",
      "metadata": {
        "execution": {
          "iopub.execute_input": "2022-09-04T11:43:02.251353Z",
          "iopub.status.busy": "2022-09-04T11:43:02.250828Z",
          "iopub.status.idle": "2022-09-04T11:43:02.254218Z",
          "shell.execute_reply": "2022-09-04T11:43:02.253666Z"
        },
        "papermill": {
          "duration": 0.018501,
          "end_time": "2022-09-04T11:43:02.255520",
          "exception": false,
          "start_time": "2022-09-04T11:43:02.237019",
          "status": "completed"
        },
        "tags": [],
        "id": "a6a0d099"
      },
      "outputs": [],
      "source": [
        "cvs = cross_val_score(clf_gbc, X, y, cv = 5, scoring='f1_micro')\n",
        "cvs"
      ]
    },
    {
      "cell_type": "code",
      "execution_count": null,
      "id": "6f16df0d",
      "metadata": {
        "execution": {
          "iopub.execute_input": "2022-09-04T11:43:02.282108Z",
          "iopub.status.busy": "2022-09-04T11:43:02.281691Z",
          "iopub.status.idle": "2022-09-04T11:43:02.318498Z",
          "shell.execute_reply": "2022-09-04T11:43:02.317931Z"
        },
        "papermill": {
          "duration": 0.052,
          "end_time": "2022-09-04T11:43:02.320311",
          "exception": false,
          "start_time": "2022-09-04T11:43:02.268311",
          "status": "completed"
        },
        "tags": [],
        "id": "6f16df0d"
      },
      "outputs": [],
      "source": [
        "from sklearn.metrics import confusion_matrix\n",
        "from sklearn.metrics import ConfusionMatrixDisplay\n",
        "y_pred= clf_gbc.predict(X)\n",
        "cm= confusion_matrix(y, y_pred)\n",
        "cm"
      ]
    },
    {
      "cell_type": "code",
      "execution_count": null,
      "id": "66d62b30",
      "metadata": {
        "execution": {
          "iopub.execute_input": "2022-09-04T11:43:02.347499Z",
          "iopub.status.busy": "2022-09-04T11:43:02.347030Z",
          "iopub.status.idle": "2022-09-04T11:43:02.350711Z",
          "shell.execute_reply": "2022-09-04T11:43:02.349875Z"
        },
        "papermill": {
          "duration": 0.018735,
          "end_time": "2022-09-04T11:43:02.352129",
          "exception": false,
          "start_time": "2022-09-04T11:43:02.333394",
          "status": "completed"
        },
        "tags": [],
        "id": "66d62b30"
      },
      "outputs": [],
      "source": [
        "#hyperparameter tuning for gradient boosting model\n",
        "from sklearn.model_selection import GridSearchCV\n",
        "gb_model= GridSearchCV(clf_gbc,\n",
        "                        {'learning_rate':[0.1,0.01,0.001,1.0],\n",
        "                           'max_depth':[3,4,5,6],'n_estimators':[100,200,150,300], 'min_samples_split':[2,3,4]\n",
        "                          } ,\n",
        "                        cv = 5, \n",
        "                        return_train_score = True)"
      ]
    },
    {
      "cell_type": "code",
      "execution_count": null,
      "id": "e4aa59ab",
      "metadata": {
        "execution": {
          "iopub.execute_input": "2022-09-04T11:43:02.378887Z",
          "iopub.status.busy": "2022-09-04T11:43:02.378632Z",
          "iopub.status.idle": "2022-09-04T11:43:02.381346Z",
          "shell.execute_reply": "2022-09-04T11:43:02.380848Z"
        },
        "papermill": {
          "duration": 0.017686,
          "end_time": "2022-09-04T11:43:02.382711",
          "exception": false,
          "start_time": "2022-09-04T11:43:02.365025",
          "status": "completed"
        },
        "tags": [],
        "id": "e4aa59ab"
      },
      "outputs": [],
      "source": [
        "gb_model.fit(X,y)\n",
        "gb_model.best_params_\n"
      ]
    },
    {
      "cell_type": "code",
      "execution_count": null,
      "id": "2f8379e0",
      "metadata": {
        "execution": {
          "iopub.execute_input": "2022-09-04T11:43:02.409420Z",
          "iopub.status.busy": "2022-09-04T11:43:02.409163Z",
          "iopub.status.idle": "2022-09-04T11:43:02.412461Z",
          "shell.execute_reply": "2022-09-04T11:43:02.411607Z"
        },
        "papermill": {
          "duration": 0.018335,
          "end_time": "2022-09-04T11:43:02.413922",
          "exception": false,
          "start_time": "2022-09-04T11:43:02.395587",
          "status": "completed"
        },
        "tags": [],
        "id": "2f8379e0"
      },
      "outputs": [],
      "source": [
        "#manually putting the values of best parameters\n",
        "clf_gbc = GradientBoostingClassifier(learning_rate=0.1, max_depth=4,  n_estimators=200, random_state = 50,criterion='squared_error')\n",
        "clf_gbc.fit(X,y)\n",
        "cvs = cross_val_score(clf_gbc, X,y, cv = 5, scoring='f1_micro')\n",
        "cvs"
      ]
    },
    {
      "cell_type": "code",
      "execution_count": null,
      "id": "a09c18e2",
      "metadata": {
        "execution": {
          "iopub.execute_input": "2022-09-04T11:43:02.440915Z",
          "iopub.status.busy": "2022-09-04T11:43:02.440647Z",
          "iopub.status.idle": "2022-09-04T11:43:02.443965Z",
          "shell.execute_reply": "2022-09-04T11:43:02.443327Z"
        },
        "papermill": {
          "duration": 0.018798,
          "end_time": "2022-09-04T11:43:02.445579",
          "exception": false,
          "start_time": "2022-09-04T11:43:02.426781",
          "status": "completed"
        },
        "tags": [],
        "id": "a09c18e2"
      },
      "outputs": [],
      "source": [
        "y_pred= clf_gbc.predict(X)\n",
        "cm= confusion_matrix(y, y_pred)\n",
        "cm"
      ]
    },
    {
      "cell_type": "code",
      "execution_count": null,
      "id": "905247d1",
      "metadata": {
        "execution": {
          "iopub.execute_input": "2022-09-04T11:43:02.473587Z",
          "iopub.status.busy": "2022-09-04T11:43:02.473317Z",
          "iopub.status.idle": "2022-09-04T11:43:02.476883Z",
          "shell.execute_reply": "2022-09-04T11:43:02.476013Z"
        },
        "papermill": {
          "duration": 0.019591,
          "end_time": "2022-09-04T11:43:02.478625",
          "exception": false,
          "start_time": "2022-09-04T11:43:02.459034",
          "status": "completed"
        },
        "tags": [],
        "id": "905247d1"
      },
      "outputs": [],
      "source": [
        "#XGBoost model\n",
        "import xgboost as xgb\n",
        "from xgboost import XGBClassifier\n",
        "from sklearn.metrics import confusion_matrix\n",
        "xgb_model =XGBClassifier( random_state=42, max_depth=6, n_estimators=100,learning_rate=0.1)\n",
        "xgb_model.fit(X, y)\n",
        "\n",
        "y_pred = xgb_model.predict(X)\n",
        "\n",
        "print(confusion_matrix(y, y_pred))"
      ]
    },
    {
      "cell_type": "code",
      "execution_count": null,
      "id": "20e51c59",
      "metadata": {
        "execution": {
          "iopub.execute_input": "2022-09-04T11:43:02.505786Z",
          "iopub.status.busy": "2022-09-04T11:43:02.505328Z",
          "iopub.status.idle": "2022-09-04T11:43:02.508452Z",
          "shell.execute_reply": "2022-09-04T11:43:02.507813Z"
        },
        "papermill": {
          "duration": 0.018401,
          "end_time": "2022-09-04T11:43:02.510040",
          "exception": false,
          "start_time": "2022-09-04T11:43:02.491639",
          "status": "completed"
        },
        "tags": [],
        "id": "20e51c59"
      },
      "outputs": [],
      "source": [
        "cvs = cross_val_score(xgb_model, X, y, cv = 5, scoring='f1_micro')\n",
        "cvs"
      ]
    },
    {
      "cell_type": "markdown",
      "id": "0c9e5e96",
      "metadata": {
        "papermill": {
          "duration": 0.012535,
          "end_time": "2022-09-04T11:43:02.535326",
          "exception": false,
          "start_time": "2022-09-04T11:43:02.522791",
          "status": "completed"
        },
        "tags": [],
        "id": "0c9e5e96"
      },
      "source": [
        "After using many models with hyperparameter tuning Light gradient boosting machine seems to apply best results till now."
      ]
    },
    {
      "cell_type": "code",
      "execution_count": null,
      "id": "4d6f42c7",
      "metadata": {
        "execution": {
          "iopub.execute_input": "2022-09-04T11:43:02.562635Z",
          "iopub.status.busy": "2022-09-04T11:43:02.561815Z",
          "iopub.status.idle": "2022-09-04T11:43:04.216770Z",
          "shell.execute_reply": "2022-09-04T11:43:04.216199Z"
        },
        "papermill": {
          "duration": 1.670493,
          "end_time": "2022-09-04T11:43:04.218395",
          "exception": false,
          "start_time": "2022-09-04T11:43:02.547902",
          "status": "completed"
        },
        "tags": [],
        "id": "4d6f42c7",
        "outputId": "550bc8b0-3014-4d0b-dab9-2f2aff76bfa0"
      },
      "outputs": [
        {
          "data": {
            "text/html": [
              "<style type='text/css'>\n",
              ".datatable table.frame { margin-bottom: 0; }\n",
              ".datatable table.frame thead { border-bottom: none; }\n",
              ".datatable table.frame tr.coltypes td {  color: #FFFFFF;  line-height: 6px;  padding: 0 0.5em;}\n",
              ".datatable .bool    { background: #DDDD99; }\n",
              ".datatable .object  { background: #565656; }\n",
              ".datatable .int     { background: #5D9E5D; }\n",
              ".datatable .float   { background: #4040CC; }\n",
              ".datatable .str     { background: #CC4040; }\n",
              ".datatable .time    { background: #40CC40; }\n",
              ".datatable .row_index {  background: var(--jp-border-color3);  border-right: 1px solid var(--jp-border-color0);  color: var(--jp-ui-font-color3);  font-size: 9px;}\n",
              ".datatable .frame tbody td { text-align: left; }\n",
              ".datatable .frame tr.coltypes .row_index {  background: var(--jp-border-color0);}\n",
              ".datatable th:nth-child(2) { padding-left: 12px; }\n",
              ".datatable .hellipsis {  color: var(--jp-cell-editor-border-color);}\n",
              ".datatable .vellipsis {  background: var(--jp-layout-color0);  color: var(--jp-cell-editor-border-color);}\n",
              ".datatable .na {  color: var(--jp-cell-editor-border-color);  font-size: 80%;}\n",
              ".datatable .sp {  opacity: 0.25;}\n",
              ".datatable .footer { font-size: 9px; }\n",
              ".datatable .frame_dimensions {  background: var(--jp-border-color3);  border-top: 1px solid var(--jp-border-color0);  color: var(--jp-ui-font-color3);  display: inline-block;  opacity: 0.6;  padding: 1px 10px 1px 5px;}\n",
              "</style>\n"
            ],
            "text/plain": [
              "<IPython.core.display.HTML object>"
            ]
          },
          "metadata": {},
          "output_type": "display_data"
        },
        {
          "data": {
            "text/plain": [
              "LGBMClassifier(max_depth=5, n_estimators=300, random_state=42)"
            ]
          },
          "execution_count": 46,
          "metadata": {},
          "output_type": "execute_result"
        }
      ],
      "source": [
        "#Light gradient boosting machine model\n",
        "#These parameters are used via calculating best parameters using GridSearchCV\n",
        "#manually putting the parameters in the model defined\n",
        "from lightgbm import LGBMClassifier\n",
        "clf_lgbm= LGBMClassifier(boosting_type= 'gbdt',max_depth=5, min_child_samples=20, n_estimators=300, random_state=42)\n",
        "clf_lgbm.fit(X,y)"
      ]
    },
    {
      "cell_type": "code",
      "execution_count": null,
      "id": "ccc17c5f",
      "metadata": {
        "execution": {
          "iopub.execute_input": "2022-09-04T11:43:04.245759Z",
          "iopub.status.busy": "2022-09-04T11:43:04.245467Z",
          "iopub.status.idle": "2022-09-04T11:43:07.641110Z",
          "shell.execute_reply": "2022-09-04T11:43:07.640445Z"
        },
        "papermill": {
          "duration": 3.413129,
          "end_time": "2022-09-04T11:43:07.644651",
          "exception": false,
          "start_time": "2022-09-04T11:43:04.231522",
          "status": "completed"
        },
        "tags": [],
        "id": "ccc17c5f",
        "outputId": "3711514d-ffb0-4986-b16b-3d84470f516f"
      },
      "outputs": [
        {
          "data": {
            "text/plain": [
              "array([0.75921053, 0.74703557, 0.7312253 , 0.74703557, 0.74044796])"
            ]
          },
          "execution_count": 47,
          "metadata": {},
          "output_type": "execute_result"
        }
      ],
      "source": [
        "from sklearn.model_selection import cross_val_score\n",
        "cvs = cross_val_score(clf_lgbm, X, y, cv = 5, scoring='f1_micro')\n",
        "\n",
        "cvs"
      ]
    },
    {
      "cell_type": "code",
      "execution_count": null,
      "id": "b51d76ca",
      "metadata": {
        "execution": {
          "iopub.execute_input": "2022-09-04T11:43:07.674183Z",
          "iopub.status.busy": "2022-09-04T11:43:07.673886Z",
          "iopub.status.idle": "2022-09-04T11:43:07.748858Z",
          "shell.execute_reply": "2022-09-04T11:43:07.748255Z"
        },
        "papermill": {
          "duration": 0.091278,
          "end_time": "2022-09-04T11:43:07.750686",
          "exception": false,
          "start_time": "2022-09-04T11:43:07.659408",
          "status": "completed"
        },
        "tags": [],
        "id": "b51d76ca",
        "outputId": "8df2f630-456c-47aa-c847-d7dbc9dded07"
      },
      "outputs": [
        {
          "data": {
            "text/plain": [
              "array([[1241,    2,    0],\n",
              "       [   0, 1863,    0],\n",
              "       [   0,    3,  687]])"
            ]
          },
          "execution_count": 48,
          "metadata": {},
          "output_type": "execute_result"
        }
      ],
      "source": [
        "#predicting values for train set\n",
        "y_pred= clf_lgbm.predict(X)\n",
        "cm= confusion_matrix(y, y_pred)\n",
        "cm"
      ]
    },
    {
      "cell_type": "code",
      "execution_count": null,
      "id": "24f142d6",
      "metadata": {
        "execution": {
          "iopub.execute_input": "2022-09-04T11:43:07.780259Z",
          "iopub.status.busy": "2022-09-04T11:43:07.779268Z",
          "iopub.status.idle": "2022-09-04T11:43:07.814593Z",
          "shell.execute_reply": "2022-09-04T11:43:07.813914Z"
        },
        "papermill": {
          "duration": 0.0508,
          "end_time": "2022-09-04T11:43:07.816215",
          "exception": false,
          "start_time": "2022-09-04T11:43:07.765415",
          "status": "completed"
        },
        "tags": [],
        "id": "24f142d6",
        "outputId": "2d1b5b0d-615e-48e0-ef7b-0fa738e9f5c5"
      },
      "outputs": [
        {
          "data": {
            "text/plain": [
              "array([1, 2, 2, ..., 0, 2, 2])"
            ]
          },
          "execution_count": 49,
          "metadata": {},
          "output_type": "execute_result"
        }
      ],
      "source": [
        "#predicting values for test set\n",
        "pred= clf_lgbm.predict(X_test)\n",
        "pred"
      ]
    },
    {
      "cell_type": "code",
      "execution_count": null,
      "id": "cae2b826",
      "metadata": {
        "execution": {
          "iopub.execute_input": "2022-09-04T11:43:07.846089Z",
          "iopub.status.busy": "2022-09-04T11:43:07.845780Z",
          "iopub.status.idle": "2022-09-04T11:43:07.854775Z",
          "shell.execute_reply": "2022-09-04T11:43:07.853950Z"
        },
        "papermill": {
          "duration": 0.02471,
          "end_time": "2022-09-04T11:43:07.856381",
          "exception": false,
          "start_time": "2022-09-04T11:43:07.831671",
          "status": "completed"
        },
        "tags": [],
        "id": "cae2b826"
      },
      "outputs": [],
      "source": [
        "# generating a submission file \n",
        "ds = np.arange(0, pred.shape[0])\n",
        "output = pd.DataFrame({'id':ds, 'label': pred})\n",
        "output.to_csv('submission.csv',index=False)"
      ]
    },
    {
      "cell_type": "code",
      "execution_count": null,
      "id": "30438fbc",
      "metadata": {
        "execution": {
          "iopub.execute_input": "2022-09-04T11:43:07.885460Z",
          "iopub.status.busy": "2022-09-04T11:43:07.885011Z",
          "iopub.status.idle": "2022-09-04T11:43:07.891324Z",
          "shell.execute_reply": "2022-09-04T11:43:07.890581Z"
        },
        "papermill": {
          "duration": 0.022564,
          "end_time": "2022-09-04T11:43:07.892928",
          "exception": false,
          "start_time": "2022-09-04T11:43:07.870364",
          "status": "completed"
        },
        "tags": [],
        "id": "30438fbc",
        "outputId": "c8ca2d50-5fa1-48d3-c970-b800340870af"
      },
      "outputs": [
        {
          "data": {
            "text/plain": [
              "1    923\n",
              "0    489\n",
              "2    216\n",
              "Name: label, dtype: int64"
            ]
          },
          "execution_count": 51,
          "metadata": {},
          "output_type": "execute_result"
        }
      ],
      "source": [
        "#class wise predicted labels \n",
        "output.label.value_counts()"
      ]
    },
    {
      "cell_type": "markdown",
      "id": "9adfc1e1",
      "metadata": {
        "papermill": {
          "duration": 0.013345,
          "end_time": "2022-09-04T11:43:07.919931",
          "exception": false,
          "start_time": "2022-09-04T11:43:07.906586",
          "status": "completed"
        },
        "tags": [],
        "id": "9adfc1e1"
      },
      "source": [
        "Best F1_micro score is 0.76119 using Light GBM Classifier with hyperparameter tuning."
      ]
    }
  ],
  "metadata": {
    "kernelspec": {
      "display_name": "Python 3",
      "language": "python",
      "name": "python3"
    },
    "language_info": {
      "codemirror_mode": {
        "name": "ipython",
        "version": 3
      },
      "file_extension": ".py",
      "mimetype": "text/x-python",
      "name": "python",
      "nbconvert_exporter": "python",
      "pygments_lexer": "ipython3",
      "version": "3.7.12"
    },
    "papermill": {
      "default_parameters": {},
      "duration": 19.869393,
      "end_time": "2022-09-04T11:43:08.552586",
      "environment_variables": {},
      "exception": null,
      "input_path": "__notebook__.ipynb",
      "output_path": "__notebook__.ipynb",
      "parameters": {},
      "start_time": "2022-09-04T11:42:48.683193",
      "version": "2.3.4"
    },
    "colab": {
      "provenance": []
    }
  },
  "nbformat": 4,
  "nbformat_minor": 5
}